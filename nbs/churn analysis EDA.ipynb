{
 "cells": [
  {
   "cell_type": "markdown",
   "metadata": {},
   "source": [
    "\n",
    "<center>\n",
    "    <h2>DTH Customer Churn Analysis</h2>\n",
    "    <h4>IBM Project G22</h4>\n",
    "    <br>\n",
    "    <br>\n",
    "    \n",
    "</center>\n",
    "<h3>Exploratory Data Analysis</h3>"
   ]
  },
  {
   "cell_type": "markdown",
   "metadata": {},
   "source": [
    "\n",
    "#### Table of Contents\n",
    "\n",
    " \n",
    " 1. [Importing Libraries](#1)\n",
    " 2. [EDA](#3)\n",
    " 3. [Data Visualization](#4)\n",
    " 4. [](#5)\n",
    " 5. [](#6)\n",
    " 7. [](#7)\n",
    " \n"
   ]
  },
  {
   "cell_type": "markdown",
   "metadata": {},
   "source": [
    "## <span id=\"1\"></span> ** 1. Importing Libraries **"
   ]
  },
  {
   "cell_type": "code",
   "execution_count": 1,
   "metadata": {},
   "outputs": [],
   "source": [
    "import pandas as pd\n",
    "import numpy as np\n",
    "\n",
    "\n",
    "import matplotlib.pyplot as plt\n",
    "import seaborn as sns\n",
    "%matplotlib inline\n",
    "\n",
    "import plotly.express as px\n",
    "import plotly\n",
    "import plotly.graph_objects as go\n",
    "import plotly.figure_factory as ff\n",
    "\n",
    "import warnings\n",
    "warnings.filterwarnings('ignore')\n"
   ]
  },
  {
   "cell_type": "markdown",
   "metadata": {},
   "source": [
    "#### Reading Data"
   ]
  },
  {
   "cell_type": "code",
   "execution_count": 2,
   "metadata": {},
   "outputs": [],
   "source": [
    "df = pd.read_csv(\"./../data/dth_data_1.csv\")\n",
    "data_pred = pd.read_csv(\"./../data/train_data_X_pred_xgb01_70acc.csv\")\n"
   ]
  },
  {
   "cell_type": "code",
   "execution_count": 3,
   "metadata": {},
   "outputs": [
    {
     "data": {
      "text/html": [
       "<div>\n",
       "<style scoped>\n",
       "    .dataframe tbody tr th:only-of-type {\n",
       "        vertical-align: middle;\n",
       "    }\n",
       "\n",
       "    .dataframe tbody tr th {\n",
       "        vertical-align: top;\n",
       "    }\n",
       "\n",
       "    .dataframe thead th {\n",
       "        text-align: right;\n",
       "    }\n",
       "</style>\n",
       "<table border=\"1\" class=\"dataframe\">\n",
       "  <thead>\n",
       "    <tr style=\"text-align: right;\">\n",
       "      <th></th>\n",
       "      <th>names</th>\n",
       "      <th>address</th>\n",
       "      <th>city</th>\n",
       "      <th>phone_number</th>\n",
       "      <th>dth_pack</th>\n",
       "      <th>subscription_status</th>\n",
       "      <th>customer_class</th>\n",
       "      <th>ott_subscription</th>\n",
       "      <th>dth_pack_price</th>\n",
       "      <th>no_of_channels</th>\n",
       "      <th>active_since</th>\n",
       "      <th>viewtime</th>\n",
       "      <th>churn</th>\n",
       "    </tr>\n",
       "  </thead>\n",
       "  <tbody>\n",
       "    <tr>\n",
       "      <th>0</th>\n",
       "      <td>Autumn Jackson</td>\n",
       "      <td>1166 Max Pine,Selenastad, OR 84999</td>\n",
       "      <td>Nicholasview</td>\n",
       "      <td>001-299-668-9887x055</td>\n",
       "      <td>Standard</td>\n",
       "      <td>True</td>\n",
       "      <td>Individual</td>\n",
       "      <td>None</td>\n",
       "      <td>350</td>\n",
       "      <td>400</td>\n",
       "      <td>1245</td>\n",
       "      <td>315</td>\n",
       "      <td>False</td>\n",
       "    </tr>\n",
       "    <tr>\n",
       "      <th>1</th>\n",
       "      <td>Tiffany Molina</td>\n",
       "      <td>2897 Kari Skyway,Thomasside, ID 62645</td>\n",
       "      <td>New Davidtown</td>\n",
       "      <td>986-452-8168x704</td>\n",
       "      <td>HD</td>\n",
       "      <td>True</td>\n",
       "      <td>Individual</td>\n",
       "      <td>None</td>\n",
       "      <td>500</td>\n",
       "      <td>450</td>\n",
       "      <td>164</td>\n",
       "      <td>77</td>\n",
       "      <td>False</td>\n",
       "    </tr>\n",
       "    <tr>\n",
       "      <th>2</th>\n",
       "      <td>Andre King</td>\n",
       "      <td>9308 Williams Islands,Shawnborough, UT 79074</td>\n",
       "      <td>Michaelshire</td>\n",
       "      <td>+1-652-466-9356x692</td>\n",
       "      <td>HD</td>\n",
       "      <td>True</td>\n",
       "      <td>Individual</td>\n",
       "      <td>None</td>\n",
       "      <td>500</td>\n",
       "      <td>450</td>\n",
       "      <td>773</td>\n",
       "      <td>27</td>\n",
       "      <td>True</td>\n",
       "    </tr>\n",
       "    <tr>\n",
       "      <th>3</th>\n",
       "      <td>Dale Franco</td>\n",
       "      <td>989 Elizabeth Isle,Mayport, DC 08154</td>\n",
       "      <td>Lake Margaret</td>\n",
       "      <td>238.412.9721x813</td>\n",
       "      <td>HD</td>\n",
       "      <td>False</td>\n",
       "      <td>Home</td>\n",
       "      <td>Hulu</td>\n",
       "      <td>500</td>\n",
       "      <td>450</td>\n",
       "      <td>0</td>\n",
       "      <td>5632</td>\n",
       "      <td>True</td>\n",
       "    </tr>\n",
       "    <tr>\n",
       "      <th>4</th>\n",
       "      <td>Kimberly Taylor</td>\n",
       "      <td>Unit 8082 Box 6829,DPO AP 84673</td>\n",
       "      <td>Justinbury</td>\n",
       "      <td>530.337.6650x868</td>\n",
       "      <td>Standard</td>\n",
       "      <td>True</td>\n",
       "      <td>Home</td>\n",
       "      <td>Netflix</td>\n",
       "      <td>350</td>\n",
       "      <td>400</td>\n",
       "      <td>814</td>\n",
       "      <td>91</td>\n",
       "      <td>False</td>\n",
       "    </tr>\n",
       "  </tbody>\n",
       "</table>\n",
       "</div>"
      ],
      "text/plain": [
       "             names                                       address  \\\n",
       "0   Autumn Jackson            1166 Max Pine,Selenastad, OR 84999   \n",
       "1   Tiffany Molina         2897 Kari Skyway,Thomasside, ID 62645   \n",
       "2       Andre King  9308 Williams Islands,Shawnborough, UT 79074   \n",
       "3      Dale Franco          989 Elizabeth Isle,Mayport, DC 08154   \n",
       "4  Kimberly Taylor               Unit 8082 Box 6829,DPO AP 84673   \n",
       "\n",
       "            city          phone_number  dth_pack  subscription_status  \\\n",
       "0   Nicholasview  001-299-668-9887x055  Standard                 True   \n",
       "1  New Davidtown      986-452-8168x704        HD                 True   \n",
       "2   Michaelshire   +1-652-466-9356x692        HD                 True   \n",
       "3  Lake Margaret      238.412.9721x813        HD                False   \n",
       "4     Justinbury      530.337.6650x868  Standard                 True   \n",
       "\n",
       "  customer_class ott_subscription  dth_pack_price  no_of_channels  \\\n",
       "0     Individual             None             350             400   \n",
       "1     Individual             None             500             450   \n",
       "2     Individual             None             500             450   \n",
       "3           Home             Hulu             500             450   \n",
       "4           Home          Netflix             350             400   \n",
       "\n",
       "   active_since  viewtime  churn  \n",
       "0          1245       315  False  \n",
       "1           164        77  False  \n",
       "2           773        27   True  \n",
       "3             0      5632   True  \n",
       "4           814        91  False  "
      ]
     },
     "execution_count": 3,
     "metadata": {},
     "output_type": "execute_result"
    }
   ],
   "source": [
    "df.head()"
   ]
  },
  {
   "cell_type": "code",
   "execution_count": 4,
   "metadata": {},
   "outputs": [
    {
     "name": "stdout",
     "output_type": "stream",
     "text": [
      "<class 'pandas.core.frame.DataFrame'>\n",
      "RangeIndex: 10000 entries, 0 to 9999\n",
      "Data columns (total 13 columns):\n",
      " #   Column               Non-Null Count  Dtype \n",
      "---  ------               --------------  ----- \n",
      " 0   names                10000 non-null  object\n",
      " 1   address              10000 non-null  object\n",
      " 2   city                 10000 non-null  object\n",
      " 3   phone_number         10000 non-null  object\n",
      " 4   dth_pack             10000 non-null  object\n",
      " 5   subscription_status  10000 non-null  bool  \n",
      " 6   customer_class       10000 non-null  object\n",
      " 7   ott_subscription     10000 non-null  object\n",
      " 8   dth_pack_price       10000 non-null  int64 \n",
      " 9   no_of_channels       10000 non-null  int64 \n",
      " 10  active_since         10000 non-null  int64 \n",
      " 11  viewtime             10000 non-null  int64 \n",
      " 12  churn                10000 non-null  bool  \n",
      "dtypes: bool(2), int64(4), object(7)\n",
      "memory usage: 879.0+ KB\n"
     ]
    }
   ],
   "source": [
    "df.info()"
   ]
  },
  {
   "cell_type": "code",
   "execution_count": 5,
   "metadata": {},
   "outputs": [
    {
     "data": {
      "text/html": [
       "<div>\n",
       "<style scoped>\n",
       "    .dataframe tbody tr th:only-of-type {\n",
       "        vertical-align: middle;\n",
       "    }\n",
       "\n",
       "    .dataframe tbody tr th {\n",
       "        vertical-align: top;\n",
       "    }\n",
       "\n",
       "    .dataframe thead th {\n",
       "        text-align: right;\n",
       "    }\n",
       "</style>\n",
       "<table border=\"1\" class=\"dataframe\">\n",
       "  <thead>\n",
       "    <tr style=\"text-align: right;\">\n",
       "      <th></th>\n",
       "      <th>dth_pack_price</th>\n",
       "      <th>no_of_channels</th>\n",
       "      <th>active_since</th>\n",
       "      <th>viewtime</th>\n",
       "    </tr>\n",
       "  </thead>\n",
       "  <tbody>\n",
       "    <tr>\n",
       "      <th>count</th>\n",
       "      <td>10000.000000</td>\n",
       "      <td>10000.000000</td>\n",
       "      <td>10000.000000</td>\n",
       "      <td>10000.000000</td>\n",
       "    </tr>\n",
       "    <tr>\n",
       "      <th>mean</th>\n",
       "      <td>414.530000</td>\n",
       "      <td>419.840000</td>\n",
       "      <td>758.875600</td>\n",
       "      <td>1414.871700</td>\n",
       "    </tr>\n",
       "    <tr>\n",
       "      <th>std</th>\n",
       "      <td>111.940306</td>\n",
       "      <td>33.158473</td>\n",
       "      <td>661.192627</td>\n",
       "      <td>2483.106234</td>\n",
       "    </tr>\n",
       "    <tr>\n",
       "      <th>min</th>\n",
       "      <td>350.000000</td>\n",
       "      <td>400.000000</td>\n",
       "      <td>0.000000</td>\n",
       "      <td>1.000000</td>\n",
       "    </tr>\n",
       "    <tr>\n",
       "      <th>25%</th>\n",
       "      <td>350.000000</td>\n",
       "      <td>400.000000</td>\n",
       "      <td>11.750000</td>\n",
       "      <td>105.000000</td>\n",
       "    </tr>\n",
       "    <tr>\n",
       "      <th>50%</th>\n",
       "      <td>350.000000</td>\n",
       "      <td>400.000000</td>\n",
       "      <td>673.500000</td>\n",
       "      <td>304.000000</td>\n",
       "    </tr>\n",
       "    <tr>\n",
       "      <th>75%</th>\n",
       "      <td>500.000000</td>\n",
       "      <td>450.000000</td>\n",
       "      <td>1347.000000</td>\n",
       "      <td>775.500000</td>\n",
       "    </tr>\n",
       "    <tr>\n",
       "      <th>max</th>\n",
       "      <td>700.000000</td>\n",
       "      <td>500.000000</td>\n",
       "      <td>1999.000000</td>\n",
       "      <td>9996.000000</td>\n",
       "    </tr>\n",
       "  </tbody>\n",
       "</table>\n",
       "</div>"
      ],
      "text/plain": [
       "       dth_pack_price  no_of_channels  active_since      viewtime\n",
       "count    10000.000000    10000.000000  10000.000000  10000.000000\n",
       "mean       414.530000      419.840000    758.875600   1414.871700\n",
       "std        111.940306       33.158473    661.192627   2483.106234\n",
       "min        350.000000      400.000000      0.000000      1.000000\n",
       "25%        350.000000      400.000000     11.750000    105.000000\n",
       "50%        350.000000      400.000000    673.500000    304.000000\n",
       "75%        500.000000      450.000000   1347.000000    775.500000\n",
       "max        700.000000      500.000000   1999.000000   9996.000000"
      ]
     },
     "execution_count": 5,
     "metadata": {},
     "output_type": "execute_result"
    }
   ],
   "source": [
    "df.describe()"
   ]
  },
  {
   "cell_type": "code",
   "execution_count": 6,
   "metadata": {},
   "outputs": [
    {
     "data": {
      "text/plain": [
       "10000"
      ]
     },
     "execution_count": 6,
     "metadata": {},
     "output_type": "execute_result"
    }
   ],
   "source": [
    "len(df)  ## 100k data len"
   ]
  },
  {
   "cell_type": "code",
   "execution_count": 7,
   "metadata": {},
   "outputs": [
    {
     "data": {
      "text/plain": [
       "Index(['names', 'address', 'city', 'phone_number', 'dth_pack',\n",
       "       'subscription_status', 'customer_class', 'ott_subscription',\n",
       "       'dth_pack_price', 'no_of_channels', 'active_since', 'viewtime',\n",
       "       'churn'],\n",
       "      dtype='object')"
      ]
     },
     "execution_count": 7,
     "metadata": {},
     "output_type": "execute_result"
    }
   ],
   "source": [
    "df.columns"
   ]
  },
  {
   "cell_type": "code",
   "execution_count": 8,
   "metadata": {},
   "outputs": [],
   "source": [
    "col_list = df.columns.to_list()"
   ]
  },
  {
   "cell_type": "code",
   "execution_count": 9,
   "metadata": {},
   "outputs": [
    {
     "data": {
      "text/plain": [
       "['names',\n",
       " 'address',\n",
       " 'city',\n",
       " 'phone_number',\n",
       " 'dth_pack',\n",
       " 'subscription_status',\n",
       " 'customer_class',\n",
       " 'ott_subscription',\n",
       " 'dth_pack_price',\n",
       " 'no_of_channels',\n",
       " 'active_since',\n",
       " 'viewtime',\n",
       " 'churn']"
      ]
     },
     "execution_count": 9,
     "metadata": {},
     "output_type": "execute_result"
    }
   ],
   "source": [
    "col_list  ## All columns"
   ]
  },
  {
   "cell_type": "code",
   "execution_count": 10,
   "metadata": {},
   "outputs": [
    {
     "data": {
      "text/plain": [
       "names                  0\n",
       "address                0\n",
       "city                   0\n",
       "phone_number           0\n",
       "dth_pack               0\n",
       "subscription_status    0\n",
       "customer_class         0\n",
       "ott_subscription       0\n",
       "dth_pack_price         0\n",
       "no_of_channels         0\n",
       "active_since           0\n",
       "viewtime               0\n",
       "churn                  0\n",
       "dtype: int64"
      ]
     },
     "execution_count": 10,
     "metadata": {},
     "output_type": "execute_result"
    }
   ],
   "source": [
    "df.isnull().sum()  ## no missing values"
   ]
  },
  {
   "cell_type": "code",
   "execution_count": 11,
   "metadata": {},
   "outputs": [
    {
     "data": {
      "text/html": [
       "<div>\n",
       "<style scoped>\n",
       "    .dataframe tbody tr th:only-of-type {\n",
       "        vertical-align: middle;\n",
       "    }\n",
       "\n",
       "    .dataframe tbody tr th {\n",
       "        vertical-align: top;\n",
       "    }\n",
       "\n",
       "    .dataframe thead th {\n",
       "        text-align: right;\n",
       "    }\n",
       "</style>\n",
       "<table border=\"1\" class=\"dataframe\">\n",
       "  <thead>\n",
       "    <tr style=\"text-align: right;\">\n",
       "      <th></th>\n",
       "      <th>dth_pack_price</th>\n",
       "      <th>no_of_channels</th>\n",
       "      <th>active_since</th>\n",
       "      <th>viewtime</th>\n",
       "    </tr>\n",
       "  </thead>\n",
       "  <tbody>\n",
       "    <tr>\n",
       "      <th>count</th>\n",
       "      <td>10000.000000</td>\n",
       "      <td>10000.000000</td>\n",
       "      <td>10000.000000</td>\n",
       "      <td>10000.000000</td>\n",
       "    </tr>\n",
       "    <tr>\n",
       "      <th>mean</th>\n",
       "      <td>414.530000</td>\n",
       "      <td>419.840000</td>\n",
       "      <td>758.875600</td>\n",
       "      <td>1414.871700</td>\n",
       "    </tr>\n",
       "    <tr>\n",
       "      <th>std</th>\n",
       "      <td>111.940306</td>\n",
       "      <td>33.158473</td>\n",
       "      <td>661.192627</td>\n",
       "      <td>2483.106234</td>\n",
       "    </tr>\n",
       "    <tr>\n",
       "      <th>min</th>\n",
       "      <td>350.000000</td>\n",
       "      <td>400.000000</td>\n",
       "      <td>0.000000</td>\n",
       "      <td>1.000000</td>\n",
       "    </tr>\n",
       "    <tr>\n",
       "      <th>25%</th>\n",
       "      <td>350.000000</td>\n",
       "      <td>400.000000</td>\n",
       "      <td>11.750000</td>\n",
       "      <td>105.000000</td>\n",
       "    </tr>\n",
       "    <tr>\n",
       "      <th>50%</th>\n",
       "      <td>350.000000</td>\n",
       "      <td>400.000000</td>\n",
       "      <td>673.500000</td>\n",
       "      <td>304.000000</td>\n",
       "    </tr>\n",
       "    <tr>\n",
       "      <th>75%</th>\n",
       "      <td>500.000000</td>\n",
       "      <td>450.000000</td>\n",
       "      <td>1347.000000</td>\n",
       "      <td>775.500000</td>\n",
       "    </tr>\n",
       "    <tr>\n",
       "      <th>max</th>\n",
       "      <td>700.000000</td>\n",
       "      <td>500.000000</td>\n",
       "      <td>1999.000000</td>\n",
       "      <td>9996.000000</td>\n",
       "    </tr>\n",
       "  </tbody>\n",
       "</table>\n",
       "</div>"
      ],
      "text/plain": [
       "       dth_pack_price  no_of_channels  active_since      viewtime\n",
       "count    10000.000000    10000.000000  10000.000000  10000.000000\n",
       "mean       414.530000      419.840000    758.875600   1414.871700\n",
       "std        111.940306       33.158473    661.192627   2483.106234\n",
       "min        350.000000      400.000000      0.000000      1.000000\n",
       "25%        350.000000      400.000000     11.750000    105.000000\n",
       "50%        350.000000      400.000000    673.500000    304.000000\n",
       "75%        500.000000      450.000000   1347.000000    775.500000\n",
       "max        700.000000      500.000000   1999.000000   9996.000000"
      ]
     },
     "execution_count": 11,
     "metadata": {},
     "output_type": "execute_result"
    }
   ],
   "source": [
    "df.describe()"
   ]
  },
  {
   "cell_type": "code",
   "execution_count": 12,
   "metadata": {},
   "outputs": [],
   "source": [
    "cat_cols = [cname for cname in df.columns if (df[cname].dtype==\"object\" or df[cname].dtype==\"bool\") and df[cname].nunique()<20]"
   ]
  },
  {
   "cell_type": "code",
   "execution_count": 13,
   "metadata": {},
   "outputs": [
    {
     "data": {
      "text/plain": [
       "['dth_pack',\n",
       " 'subscription_status',\n",
       " 'customer_class',\n",
       " 'ott_subscription',\n",
       " 'churn']"
      ]
     },
     "execution_count": 13,
     "metadata": {},
     "output_type": "execute_result"
    }
   ],
   "source": [
    "cat_cols ## categoricals columns"
   ]
  },
  {
   "cell_type": "code",
   "execution_count": 14,
   "metadata": {},
   "outputs": [],
   "source": [
    "num_cols = [cname for cname in df.columns if df[cname].dtype==\"int64\"]"
   ]
  },
  {
   "cell_type": "code",
   "execution_count": 15,
   "metadata": {},
   "outputs": [
    {
     "data": {
      "text/plain": [
       "['dth_pack_price', 'no_of_channels', 'active_since', 'viewtime']"
      ]
     },
     "execution_count": 15,
     "metadata": {},
     "output_type": "execute_result"
    }
   ],
   "source": [
    "num_cols  ## numerical columns"
   ]
  },
  {
   "cell_type": "code",
   "execution_count": 16,
   "metadata": {},
   "outputs": [
    {
     "data": {
      "text/plain": [
       "['names', 'address', 'city', 'phone_number']"
      ]
     },
     "execution_count": 16,
     "metadata": {},
     "output_type": "execute_result"
    }
   ],
   "source": [
    "[names for names in col_list if names not in cat_cols and names not in num_cols]  ## remaining cols"
   ]
  },
  {
   "cell_type": "code",
   "execution_count": 17,
   "metadata": {},
   "outputs": [
    {
     "data": {
      "text/html": [
       "<div>\n",
       "<style scoped>\n",
       "    .dataframe tbody tr th:only-of-type {\n",
       "        vertical-align: middle;\n",
       "    }\n",
       "\n",
       "    .dataframe tbody tr th {\n",
       "        vertical-align: top;\n",
       "    }\n",
       "\n",
       "    .dataframe thead th {\n",
       "        text-align: right;\n",
       "    }\n",
       "</style>\n",
       "<table border=\"1\" class=\"dataframe\">\n",
       "  <thead>\n",
       "    <tr style=\"text-align: right;\">\n",
       "      <th></th>\n",
       "      <th>dth_pack</th>\n",
       "      <th>subscription_status</th>\n",
       "      <th>customer_class</th>\n",
       "      <th>ott_subscription</th>\n",
       "      <th>churn</th>\n",
       "    </tr>\n",
       "  </thead>\n",
       "  <tbody>\n",
       "    <tr>\n",
       "      <th>0</th>\n",
       "      <td>Standard</td>\n",
       "      <td>True</td>\n",
       "      <td>Individual</td>\n",
       "      <td>None</td>\n",
       "      <td>False</td>\n",
       "    </tr>\n",
       "    <tr>\n",
       "      <th>1</th>\n",
       "      <td>HD</td>\n",
       "      <td>True</td>\n",
       "      <td>Individual</td>\n",
       "      <td>None</td>\n",
       "      <td>False</td>\n",
       "    </tr>\n",
       "    <tr>\n",
       "      <th>2</th>\n",
       "      <td>HD</td>\n",
       "      <td>True</td>\n",
       "      <td>Individual</td>\n",
       "      <td>None</td>\n",
       "      <td>True</td>\n",
       "    </tr>\n",
       "    <tr>\n",
       "      <th>3</th>\n",
       "      <td>HD</td>\n",
       "      <td>False</td>\n",
       "      <td>Home</td>\n",
       "      <td>Hulu</td>\n",
       "      <td>True</td>\n",
       "    </tr>\n",
       "    <tr>\n",
       "      <th>4</th>\n",
       "      <td>Standard</td>\n",
       "      <td>True</td>\n",
       "      <td>Home</td>\n",
       "      <td>Netflix</td>\n",
       "      <td>False</td>\n",
       "    </tr>\n",
       "    <tr>\n",
       "      <th>...</th>\n",
       "      <td>...</td>\n",
       "      <td>...</td>\n",
       "      <td>...</td>\n",
       "      <td>...</td>\n",
       "      <td>...</td>\n",
       "    </tr>\n",
       "    <tr>\n",
       "      <th>9995</th>\n",
       "      <td>Standard</td>\n",
       "      <td>True</td>\n",
       "      <td>Individual</td>\n",
       "      <td>None</td>\n",
       "      <td>False</td>\n",
       "    </tr>\n",
       "    <tr>\n",
       "      <th>9996</th>\n",
       "      <td>Standard</td>\n",
       "      <td>False</td>\n",
       "      <td>Individual</td>\n",
       "      <td>Other</td>\n",
       "      <td>False</td>\n",
       "    </tr>\n",
       "    <tr>\n",
       "      <th>9997</th>\n",
       "      <td>UHD</td>\n",
       "      <td>False</td>\n",
       "      <td>Commercial</td>\n",
       "      <td>Hulu</td>\n",
       "      <td>False</td>\n",
       "    </tr>\n",
       "    <tr>\n",
       "      <th>9998</th>\n",
       "      <td>HD</td>\n",
       "      <td>True</td>\n",
       "      <td>Home</td>\n",
       "      <td>None</td>\n",
       "      <td>False</td>\n",
       "    </tr>\n",
       "    <tr>\n",
       "      <th>9999</th>\n",
       "      <td>UHD</td>\n",
       "      <td>True</td>\n",
       "      <td>Individual</td>\n",
       "      <td>Hulu</td>\n",
       "      <td>False</td>\n",
       "    </tr>\n",
       "  </tbody>\n",
       "</table>\n",
       "<p>10000 rows × 5 columns</p>\n",
       "</div>"
      ],
      "text/plain": [
       "      dth_pack  subscription_status customer_class ott_subscription  churn\n",
       "0     Standard                 True     Individual             None  False\n",
       "1           HD                 True     Individual             None  False\n",
       "2           HD                 True     Individual             None   True\n",
       "3           HD                False           Home             Hulu   True\n",
       "4     Standard                 True           Home          Netflix  False\n",
       "...        ...                  ...            ...              ...    ...\n",
       "9995  Standard                 True     Individual             None  False\n",
       "9996  Standard                False     Individual            Other  False\n",
       "9997       UHD                False     Commercial             Hulu  False\n",
       "9998        HD                 True           Home             None  False\n",
       "9999       UHD                 True     Individual             Hulu  False\n",
       "\n",
       "[10000 rows x 5 columns]"
      ]
     },
     "execution_count": 17,
     "metadata": {},
     "output_type": "execute_result"
    }
   ],
   "source": [
    "df[cat_cols] ## only cat cols"
   ]
  },
  {
   "cell_type": "code",
   "execution_count": 18,
   "metadata": {},
   "outputs": [
    {
     "data": {
      "text/html": [
       "<div>\n",
       "<style scoped>\n",
       "    .dataframe tbody tr th:only-of-type {\n",
       "        vertical-align: middle;\n",
       "    }\n",
       "\n",
       "    .dataframe tbody tr th {\n",
       "        vertical-align: top;\n",
       "    }\n",
       "\n",
       "    .dataframe thead th {\n",
       "        text-align: right;\n",
       "    }\n",
       "</style>\n",
       "<table border=\"1\" class=\"dataframe\">\n",
       "  <thead>\n",
       "    <tr style=\"text-align: right;\">\n",
       "      <th></th>\n",
       "      <th>dth_pack_price</th>\n",
       "      <th>no_of_channels</th>\n",
       "      <th>active_since</th>\n",
       "      <th>viewtime</th>\n",
       "    </tr>\n",
       "  </thead>\n",
       "  <tbody>\n",
       "    <tr>\n",
       "      <th>0</th>\n",
       "      <td>350</td>\n",
       "      <td>400</td>\n",
       "      <td>1245</td>\n",
       "      <td>315</td>\n",
       "    </tr>\n",
       "    <tr>\n",
       "      <th>1</th>\n",
       "      <td>500</td>\n",
       "      <td>450</td>\n",
       "      <td>164</td>\n",
       "      <td>77</td>\n",
       "    </tr>\n",
       "    <tr>\n",
       "      <th>2</th>\n",
       "      <td>500</td>\n",
       "      <td>450</td>\n",
       "      <td>773</td>\n",
       "      <td>27</td>\n",
       "    </tr>\n",
       "    <tr>\n",
       "      <th>3</th>\n",
       "      <td>500</td>\n",
       "      <td>450</td>\n",
       "      <td>0</td>\n",
       "      <td>5632</td>\n",
       "    </tr>\n",
       "    <tr>\n",
       "      <th>4</th>\n",
       "      <td>350</td>\n",
       "      <td>400</td>\n",
       "      <td>814</td>\n",
       "      <td>91</td>\n",
       "    </tr>\n",
       "    <tr>\n",
       "      <th>...</th>\n",
       "      <td>...</td>\n",
       "      <td>...</td>\n",
       "      <td>...</td>\n",
       "      <td>...</td>\n",
       "    </tr>\n",
       "    <tr>\n",
       "      <th>9995</th>\n",
       "      <td>350</td>\n",
       "      <td>400</td>\n",
       "      <td>1931</td>\n",
       "      <td>842</td>\n",
       "    </tr>\n",
       "    <tr>\n",
       "      <th>9996</th>\n",
       "      <td>350</td>\n",
       "      <td>400</td>\n",
       "      <td>0</td>\n",
       "      <td>8299</td>\n",
       "    </tr>\n",
       "    <tr>\n",
       "      <th>9997</th>\n",
       "      <td>700</td>\n",
       "      <td>500</td>\n",
       "      <td>0</td>\n",
       "      <td>2635</td>\n",
       "    </tr>\n",
       "    <tr>\n",
       "      <th>9998</th>\n",
       "      <td>500</td>\n",
       "      <td>450</td>\n",
       "      <td>1436</td>\n",
       "      <td>627</td>\n",
       "    </tr>\n",
       "    <tr>\n",
       "      <th>9999</th>\n",
       "      <td>700</td>\n",
       "      <td>500</td>\n",
       "      <td>1766</td>\n",
       "      <td>225</td>\n",
       "    </tr>\n",
       "  </tbody>\n",
       "</table>\n",
       "<p>10000 rows × 4 columns</p>\n",
       "</div>"
      ],
      "text/plain": [
       "      dth_pack_price  no_of_channels  active_since  viewtime\n",
       "0                350             400          1245       315\n",
       "1                500             450           164        77\n",
       "2                500             450           773        27\n",
       "3                500             450             0      5632\n",
       "4                350             400           814        91\n",
       "...              ...             ...           ...       ...\n",
       "9995             350             400          1931       842\n",
       "9996             350             400             0      8299\n",
       "9997             700             500             0      2635\n",
       "9998             500             450          1436       627\n",
       "9999             700             500          1766       225\n",
       "\n",
       "[10000 rows x 4 columns]"
      ]
     },
     "execution_count": 18,
     "metadata": {},
     "output_type": "execute_result"
    }
   ],
   "source": [
    "df[num_cols]"
   ]
  },
  {
   "cell_type": "code",
   "execution_count": 19,
   "metadata": {},
   "outputs": [
    {
     "data": {
      "image/png": "[encoded data removed]",
      "text/plain": [
       "<Figure size 720x432 with 2 Axes>"
      ]
     },
     "metadata": {
      "needs_background": "light"
     },
     "output_type": "display_data"
    }
   ],
   "source": [
    "plt.figure(figsize=(10,6))\n",
    "\n",
    "g=sns.heatmap(df.corr(),cmap=\"RdYlGn\",annot=True)\n",
    "plt.savefig(\"corr-heatmap.jpg\")"
   ]
  },
  {
   "cell_type": "code",
   "execution_count": 20,
   "metadata": {},
   "outputs": [
    {
     "data": {
      "text/html": [
       "<div>\n",
       "<style scoped>\n",
       "    .dataframe tbody tr th:only-of-type {\n",
       "        vertical-align: middle;\n",
       "    }\n",
       "\n",
       "    .dataframe tbody tr th {\n",
       "        vertical-align: top;\n",
       "    }\n",
       "\n",
       "    .dataframe thead th {\n",
       "        text-align: right;\n",
       "    }\n",
       "</style>\n",
       "<table border=\"1\" class=\"dataframe\">\n",
       "  <thead>\n",
       "    <tr style=\"text-align: right;\">\n",
       "      <th></th>\n",
       "      <th>dth_pack</th>\n",
       "      <th>subscription_status</th>\n",
       "      <th>customer_class</th>\n",
       "      <th>ott_subscription</th>\n",
       "      <th>churn</th>\n",
       "    </tr>\n",
       "  </thead>\n",
       "  <tbody>\n",
       "    <tr>\n",
       "      <th>0</th>\n",
       "      <td>Standard</td>\n",
       "      <td>True</td>\n",
       "      <td>Individual</td>\n",
       "      <td>None</td>\n",
       "      <td>False</td>\n",
       "    </tr>\n",
       "    <tr>\n",
       "      <th>1</th>\n",
       "      <td>HD</td>\n",
       "      <td>True</td>\n",
       "      <td>Individual</td>\n",
       "      <td>None</td>\n",
       "      <td>False</td>\n",
       "    </tr>\n",
       "    <tr>\n",
       "      <th>2</th>\n",
       "      <td>HD</td>\n",
       "      <td>True</td>\n",
       "      <td>Individual</td>\n",
       "      <td>None</td>\n",
       "      <td>True</td>\n",
       "    </tr>\n",
       "    <tr>\n",
       "      <th>3</th>\n",
       "      <td>HD</td>\n",
       "      <td>False</td>\n",
       "      <td>Home</td>\n",
       "      <td>Hulu</td>\n",
       "      <td>True</td>\n",
       "    </tr>\n",
       "    <tr>\n",
       "      <th>4</th>\n",
       "      <td>Standard</td>\n",
       "      <td>True</td>\n",
       "      <td>Home</td>\n",
       "      <td>Netflix</td>\n",
       "      <td>False</td>\n",
       "    </tr>\n",
       "    <tr>\n",
       "      <th>...</th>\n",
       "      <td>...</td>\n",
       "      <td>...</td>\n",
       "      <td>...</td>\n",
       "      <td>...</td>\n",
       "      <td>...</td>\n",
       "    </tr>\n",
       "    <tr>\n",
       "      <th>9995</th>\n",
       "      <td>Standard</td>\n",
       "      <td>True</td>\n",
       "      <td>Individual</td>\n",
       "      <td>None</td>\n",
       "      <td>False</td>\n",
       "    </tr>\n",
       "    <tr>\n",
       "      <th>9996</th>\n",
       "      <td>Standard</td>\n",
       "      <td>False</td>\n",
       "      <td>Individual</td>\n",
       "      <td>Other</td>\n",
       "      <td>False</td>\n",
       "    </tr>\n",
       "    <tr>\n",
       "      <th>9997</th>\n",
       "      <td>UHD</td>\n",
       "      <td>False</td>\n",
       "      <td>Commercial</td>\n",
       "      <td>Hulu</td>\n",
       "      <td>False</td>\n",
       "    </tr>\n",
       "    <tr>\n",
       "      <th>9998</th>\n",
       "      <td>HD</td>\n",
       "      <td>True</td>\n",
       "      <td>Home</td>\n",
       "      <td>None</td>\n",
       "      <td>False</td>\n",
       "    </tr>\n",
       "    <tr>\n",
       "      <th>9999</th>\n",
       "      <td>UHD</td>\n",
       "      <td>True</td>\n",
       "      <td>Individual</td>\n",
       "      <td>Hulu</td>\n",
       "      <td>False</td>\n",
       "    </tr>\n",
       "  </tbody>\n",
       "</table>\n",
       "<p>10000 rows × 5 columns</p>\n",
       "</div>"
      ],
      "text/plain": [
       "      dth_pack  subscription_status customer_class ott_subscription  churn\n",
       "0     Standard                 True     Individual             None  False\n",
       "1           HD                 True     Individual             None  False\n",
       "2           HD                 True     Individual             None   True\n",
       "3           HD                False           Home             Hulu   True\n",
       "4     Standard                 True           Home          Netflix  False\n",
       "...        ...                  ...            ...              ...    ...\n",
       "9995  Standard                 True     Individual             None  False\n",
       "9996  Standard                False     Individual            Other  False\n",
       "9997       UHD                False     Commercial             Hulu  False\n",
       "9998        HD                 True           Home             None  False\n",
       "9999       UHD                 True     Individual             Hulu  False\n",
       "\n",
       "[10000 rows x 5 columns]"
      ]
     },
     "execution_count": 20,
     "metadata": {},
     "output_type": "execute_result"
    }
   ],
   "source": [
    "df[cat_cols]"
   ]
  },
  {
   "cell_type": "code",
   "execution_count": 21,
   "metadata": {
    "scrolled": true
   },
   "outputs": [
    {
     "data": {
      "text/plain": [
       "Standard    7034\n",
       "HD          1964\n",
       "UHD         1002\n",
       "Name: dth_pack, dtype: int64"
      ]
     },
     "execution_count": 21,
     "metadata": {},
     "output_type": "execute_result"
    }
   ],
   "source": [
    "df[\"dth_pack\"].value_counts()"
   ]
  },
  {
   "cell_type": "markdown",
   "metadata": {},
   "source": [
    "### Categorical columns EDA"
   ]
  },
  {
   "cell_type": "code",
   "execution_count": 22,
   "metadata": {},
   "outputs": [
    {
     "data": {
      "image/png": "[encoded data removed]",
      "text/plain": [
       "<Figure size 432x288 with 1 Axes>"
      ]
     },
     "metadata": {
      "needs_background": "light"
     },
     "output_type": "display_data"
    }
   ],
   "source": [
    "sns.countplot(df[\"dth_pack\"])  ## showing dth pack distribution\n",
    "plt.savefig(\"dth-pack.jpg\")"
   ]
  },
  {
   "cell_type": "code",
   "execution_count": 23,
   "metadata": {},
   "outputs": [
    {
     "name": "stdout",
     "output_type": "stream",
     "text": [
      "True     7506\n",
      "False    2494\n",
      "Name: subscription_status, dtype: int64\n"
     ]
    },
    {
     "data": {
      "image/png": "[encoded data removed]",
      "text/plain": [
       "<Figure size 432x288 with 1 Axes>"
      ]
     },
     "metadata": {
      "needs_background": "light"
     },
     "output_type": "display_data"
    }
   ],
   "source": [
    "print(df[\"subscription_status\"].value_counts())\n",
    "\n",
    "sns.countplot(df[\"subscription_status\"])\n",
    "plt.savefig(\"subscription_status.jpg\")"
   ]
  },
  {
   "cell_type": "code",
   "execution_count": 24,
   "metadata": {},
   "outputs": [
    {
     "name": "stdout",
     "output_type": "stream",
     "text": [
      "Individual    6022\n",
      "Home          2976\n",
      "Commercial    1002\n",
      "Name: customer_class, dtype: int64\n"
     ]
    },
    {
     "data": {
      "image/png": "[encoded data removed]",
      "text/plain": [
       "<Figure size 432x288 with 1 Axes>"
      ]
     },
     "metadata": {
      "needs_background": "light"
     },
     "output_type": "display_data"
    }
   ],
   "source": [
    "print(df[\"customer_class\"].value_counts())\n",
    "\n",
    "sns.countplot(df[\"customer_class\"])\n",
    "plt.savefig(\"customer_class.jpg\")"
   ]
  },
  {
   "cell_type": "code",
   "execution_count": 25,
   "metadata": {},
   "outputs": [
    {
     "name": "stdout",
     "output_type": "stream",
     "text": [
      "Netflix               3016\n",
      "None                  2479\n",
      "Amazon Prime Video    1949\n",
      "Other                 1552\n",
      "Hulu                  1004\n",
      "Name: ott_subscription, dtype: int64\n"
     ]
    },
    {
     "data": {
      "image/png": "[encoded data removed]",
      "text/plain": [
       "<Figure size 432x288 with 1 Axes>"
      ]
     },
     "metadata": {
      "needs_background": "light"
     },
     "output_type": "display_data"
    }
   ],
   "source": [
    "print(df[\"ott_subscription\"].value_counts())\n",
    "\n",
    "sns.countplot(df[\"ott_subscription\"])\n",
    "plt.savefig(\"ott_subscription.jpg\")"
   ]
  },
  {
   "cell_type": "code",
   "execution_count": 26,
   "metadata": {},
   "outputs": [
    {
     "name": "stdout",
     "output_type": "stream",
     "text": [
      "False    7009\n",
      "True     2991\n",
      "Name: churn, dtype: int64\n"
     ]
    },
    {
     "data": {
      "image/png": "[encoded data removed]",
      "text/plain": [
       "<Figure size 432x288 with 1 Axes>"
      ]
     },
     "metadata": {
      "needs_background": "light"
     },
     "output_type": "display_data"
    }
   ],
   "source": [
    "print(df[\"churn\"].value_counts())\n",
    "\n",
    "sns.countplot(df[\"churn\"])\n",
    "plt.savefig(\"churn.jpg\")"
   ]
  },
  {
   "cell_type": "code",
   "execution_count": 27,
   "metadata": {},
   "outputs": [],
   "source": [
    "# group_labels=[\"distplot\"]\n",
    "# data = df[\"viewtime\"].to_list()\n",
    "# fig = ff.create_distplot(data,group_labels)\n",
    "# fig.show()"
   ]
  },
  {
   "cell_type": "markdown",
   "metadata": {},
   "source": [
    "### Numericals columns EDA\n"
   ]
  },
  {
   "cell_type": "code",
   "execution_count": 28,
   "metadata": {},
   "outputs": [
    {
     "data": {
      "image/png": "[encoded data removed]",
      "text/plain": [
       "<Figure size 1080x576 with 1 Axes>"
      ]
     },
     "metadata": {
      "needs_background": "light"
     },
     "output_type": "display_data"
    }
   ],
   "source": [
    "plt.figure(figsize=(15,8))\n",
    "sns.distplot(df[\"viewtime\"],color=\"blue\")\n",
    "plt.savefig(\"viewtime.jpg\")"
   ]
  },
  {
   "cell_type": "code",
   "execution_count": 29,
   "metadata": {},
   "outputs": [
    {
     "data": {
      "image/png": "[encoded data removed]",
      "text/plain": [
       "<Figure size 504x360 with 1 Axes>"
      ]
     },
     "metadata": {
      "needs_background": "light"
     },
     "output_type": "display_data"
    }
   ],
   "source": [
    "plt.figure(figsize=(7,5))\n",
    "sns.barplot(x=df[\"dth_pack\"],y=df[\"no_of_channels\"])\n",
    "plt.savefig(\"dth-pack vs no_channel.jpg\")"
   ]
  },
  {
   "cell_type": "code",
   "execution_count": 30,
   "metadata": {},
   "outputs": [
    {
     "data": {
      "image/png": "[encoded data removed]",
      "text/plain": [
       "<Figure size 1080x576 with 1 Axes>"
      ]
     },
     "metadata": {
      "needs_background": "light"
     },
     "output_type": "display_data"
    }
   ],
   "source": [
    "plt.figure(figsize=(15,8))\n",
    "sns.distplot(df[\"active_since\"],color=\"green\")\n",
    "plt.savefig(\"activesince dist.jpg\")"
   ]
  },
  {
   "cell_type": "code",
   "execution_count": 31,
   "metadata": {},
   "outputs": [
    {
     "name": "stdout",
     "output_type": "stream",
     "text": [
      "Mean of Active-since:  758.8756\n",
      "Median of Active-since:  673.5\n"
     ]
    }
   ],
   "source": [
    "print(\"Mean of Active-since: \",df[\"active_since\"].mean())\n",
    "print(\"Median of Active-since: \",df[\"active_since\"].median())"
   ]
  },
  {
   "cell_type": "code",
   "execution_count": 32,
   "metadata": {},
   "outputs": [
    {
     "data": {
      "text/html": [
       "<div>\n",
       "<style scoped>\n",
       "    .dataframe tbody tr th:only-of-type {\n",
       "        vertical-align: middle;\n",
       "    }\n",
       "\n",
       "    .dataframe tbody tr th {\n",
       "        vertical-align: top;\n",
       "    }\n",
       "\n",
       "    .dataframe thead th {\n",
       "        text-align: right;\n",
       "    }\n",
       "</style>\n",
       "<table border=\"1\" class=\"dataframe\">\n",
       "  <thead>\n",
       "    <tr style=\"text-align: right;\">\n",
       "      <th></th>\n",
       "      <th>dth_pack_price</th>\n",
       "      <th>no_of_channels</th>\n",
       "      <th>active_since</th>\n",
       "      <th>viewtime</th>\n",
       "    </tr>\n",
       "  </thead>\n",
       "  <tbody>\n",
       "    <tr>\n",
       "      <th>0</th>\n",
       "      <td>350</td>\n",
       "      <td>400</td>\n",
       "      <td>1245</td>\n",
       "      <td>315</td>\n",
       "    </tr>\n",
       "    <tr>\n",
       "      <th>1</th>\n",
       "      <td>500</td>\n",
       "      <td>450</td>\n",
       "      <td>164</td>\n",
       "      <td>77</td>\n",
       "    </tr>\n",
       "    <tr>\n",
       "      <th>2</th>\n",
       "      <td>500</td>\n",
       "      <td>450</td>\n",
       "      <td>773</td>\n",
       "      <td>27</td>\n",
       "    </tr>\n",
       "    <tr>\n",
       "      <th>3</th>\n",
       "      <td>500</td>\n",
       "      <td>450</td>\n",
       "      <td>0</td>\n",
       "      <td>5632</td>\n",
       "    </tr>\n",
       "    <tr>\n",
       "      <th>4</th>\n",
       "      <td>350</td>\n",
       "      <td>400</td>\n",
       "      <td>814</td>\n",
       "      <td>91</td>\n",
       "    </tr>\n",
       "    <tr>\n",
       "      <th>...</th>\n",
       "      <td>...</td>\n",
       "      <td>...</td>\n",
       "      <td>...</td>\n",
       "      <td>...</td>\n",
       "    </tr>\n",
       "    <tr>\n",
       "      <th>9995</th>\n",
       "      <td>350</td>\n",
       "      <td>400</td>\n",
       "      <td>1931</td>\n",
       "      <td>842</td>\n",
       "    </tr>\n",
       "    <tr>\n",
       "      <th>9996</th>\n",
       "      <td>350</td>\n",
       "      <td>400</td>\n",
       "      <td>0</td>\n",
       "      <td>8299</td>\n",
       "    </tr>\n",
       "    <tr>\n",
       "      <th>9997</th>\n",
       "      <td>700</td>\n",
       "      <td>500</td>\n",
       "      <td>0</td>\n",
       "      <td>2635</td>\n",
       "    </tr>\n",
       "    <tr>\n",
       "      <th>9998</th>\n",
       "      <td>500</td>\n",
       "      <td>450</td>\n",
       "      <td>1436</td>\n",
       "      <td>627</td>\n",
       "    </tr>\n",
       "    <tr>\n",
       "      <th>9999</th>\n",
       "      <td>700</td>\n",
       "      <td>500</td>\n",
       "      <td>1766</td>\n",
       "      <td>225</td>\n",
       "    </tr>\n",
       "  </tbody>\n",
       "</table>\n",
       "<p>10000 rows × 4 columns</p>\n",
       "</div>"
      ],
      "text/plain": [
       "      dth_pack_price  no_of_channels  active_since  viewtime\n",
       "0                350             400          1245       315\n",
       "1                500             450           164        77\n",
       "2                500             450           773        27\n",
       "3                500             450             0      5632\n",
       "4                350             400           814        91\n",
       "...              ...             ...           ...       ...\n",
       "9995             350             400          1931       842\n",
       "9996             350             400             0      8299\n",
       "9997             700             500             0      2635\n",
       "9998             500             450          1436       627\n",
       "9999             700             500          1766       225\n",
       "\n",
       "[10000 rows x 4 columns]"
      ]
     },
     "execution_count": 32,
     "metadata": {},
     "output_type": "execute_result"
    }
   ],
   "source": [
    "df[num_cols]"
   ]
  },
  {
   "cell_type": "code",
   "execution_count": 33,
   "metadata": {},
   "outputs": [
    {
     "data": {
      "text/html": [
       "<div>\n",
       "<style scoped>\n",
       "    .dataframe tbody tr th:only-of-type {\n",
       "        vertical-align: middle;\n",
       "    }\n",
       "\n",
       "    .dataframe tbody tr th {\n",
       "        vertical-align: top;\n",
       "    }\n",
       "\n",
       "    .dataframe thead th {\n",
       "        text-align: right;\n",
       "    }\n",
       "</style>\n",
       "<table border=\"1\" class=\"dataframe\">\n",
       "  <thead>\n",
       "    <tr style=\"text-align: right;\">\n",
       "      <th></th>\n",
       "      <th>dth_pack</th>\n",
       "      <th>subscription_status</th>\n",
       "      <th>customer_class</th>\n",
       "      <th>ott_subscription</th>\n",
       "      <th>churn</th>\n",
       "    </tr>\n",
       "  </thead>\n",
       "  <tbody>\n",
       "    <tr>\n",
       "      <th>0</th>\n",
       "      <td>Standard</td>\n",
       "      <td>True</td>\n",
       "      <td>Individual</td>\n",
       "      <td>None</td>\n",
       "      <td>False</td>\n",
       "    </tr>\n",
       "    <tr>\n",
       "      <th>1</th>\n",
       "      <td>HD</td>\n",
       "      <td>True</td>\n",
       "      <td>Individual</td>\n",
       "      <td>None</td>\n",
       "      <td>False</td>\n",
       "    </tr>\n",
       "    <tr>\n",
       "      <th>2</th>\n",
       "      <td>HD</td>\n",
       "      <td>True</td>\n",
       "      <td>Individual</td>\n",
       "      <td>None</td>\n",
       "      <td>True</td>\n",
       "    </tr>\n",
       "    <tr>\n",
       "      <th>3</th>\n",
       "      <td>HD</td>\n",
       "      <td>False</td>\n",
       "      <td>Home</td>\n",
       "      <td>Hulu</td>\n",
       "      <td>True</td>\n",
       "    </tr>\n",
       "    <tr>\n",
       "      <th>4</th>\n",
       "      <td>Standard</td>\n",
       "      <td>True</td>\n",
       "      <td>Home</td>\n",
       "      <td>Netflix</td>\n",
       "      <td>False</td>\n",
       "    </tr>\n",
       "    <tr>\n",
       "      <th>...</th>\n",
       "      <td>...</td>\n",
       "      <td>...</td>\n",
       "      <td>...</td>\n",
       "      <td>...</td>\n",
       "      <td>...</td>\n",
       "    </tr>\n",
       "    <tr>\n",
       "      <th>9995</th>\n",
       "      <td>Standard</td>\n",
       "      <td>True</td>\n",
       "      <td>Individual</td>\n",
       "      <td>None</td>\n",
       "      <td>False</td>\n",
       "    </tr>\n",
       "    <tr>\n",
       "      <th>9996</th>\n",
       "      <td>Standard</td>\n",
       "      <td>False</td>\n",
       "      <td>Individual</td>\n",
       "      <td>Other</td>\n",
       "      <td>False</td>\n",
       "    </tr>\n",
       "    <tr>\n",
       "      <th>9997</th>\n",
       "      <td>UHD</td>\n",
       "      <td>False</td>\n",
       "      <td>Commercial</td>\n",
       "      <td>Hulu</td>\n",
       "      <td>False</td>\n",
       "    </tr>\n",
       "    <tr>\n",
       "      <th>9998</th>\n",
       "      <td>HD</td>\n",
       "      <td>True</td>\n",
       "      <td>Home</td>\n",
       "      <td>None</td>\n",
       "      <td>False</td>\n",
       "    </tr>\n",
       "    <tr>\n",
       "      <th>9999</th>\n",
       "      <td>UHD</td>\n",
       "      <td>True</td>\n",
       "      <td>Individual</td>\n",
       "      <td>Hulu</td>\n",
       "      <td>False</td>\n",
       "    </tr>\n",
       "  </tbody>\n",
       "</table>\n",
       "<p>10000 rows × 5 columns</p>\n",
       "</div>"
      ],
      "text/plain": [
       "      dth_pack  subscription_status customer_class ott_subscription  churn\n",
       "0     Standard                 True     Individual             None  False\n",
       "1           HD                 True     Individual             None  False\n",
       "2           HD                 True     Individual             None   True\n",
       "3           HD                False           Home             Hulu   True\n",
       "4     Standard                 True           Home          Netflix  False\n",
       "...        ...                  ...            ...              ...    ...\n",
       "9995  Standard                 True     Individual             None  False\n",
       "9996  Standard                False     Individual            Other  False\n",
       "9997       UHD                False     Commercial             Hulu  False\n",
       "9998        HD                 True           Home             None  False\n",
       "9999       UHD                 True     Individual             Hulu  False\n",
       "\n",
       "[10000 rows x 5 columns]"
      ]
     },
     "execution_count": 33,
     "metadata": {},
     "output_type": "execute_result"
    }
   ],
   "source": [
    "df[cat_cols]"
   ]
  },
  {
   "cell_type": "code",
   "execution_count": 34,
   "metadata": {},
   "outputs": [],
   "source": [
    "# dth_pack_true=df[df[\"subscription_status\"]==True].dth_pack\n",
    "# dth_pack_true"
   ]
  },
  {
   "cell_type": "code",
   "execution_count": 35,
   "metadata": {},
   "outputs": [
    {
     "data": {
      "text/plain": [
       "'\\ntasks:\\n\\n1) show distribution of inactive subscription and ott subscription\\n2) show dist of dth pack and customer class\\n\\n4) churn==True of inactive subs with active ott subscription\\n\\n5) redefine: meaning of sub status = False with churn = True\\n\\n6) customer class with distribution of ott subscription and dth_pack\\n\\n7) viewtime vs active ott_subscription\\n\\n\\n\\n## done\\n\\n3)compare show most popular ott subsription dth pack\\n8) price the customer pays having active ott_sub\\n\\n\\n'"
      ]
     },
     "execution_count": 35,
     "metadata": {},
     "output_type": "execute_result"
    }
   ],
   "source": [
    "\"\"\"\n",
    "tasks:\n",
    "\n",
    "1) show distribution of inactive subscription and ott subscription\n",
    "2) show dist of dth pack and customer class\n",
    "\n",
    "4) churn==True of inactive subs with active ott subscription\n",
    "\n",
    "5) redefine: meaning of sub status = False with churn = True\n",
    "\n",
    "6) customer class with distribution of ott subscription and dth_pack\n",
    "\n",
    "7) viewtime vs active ott_subscription\n",
    "\n",
    "\n",
    "\n",
    "## done\n",
    "\n",
    "3)compare show most popular ott subsription dth pack\n",
    "8) price the customer pays having active ott_sub\n",
    "\n",
    "\n",
    "\"\"\""
   ]
  },
  {
   "cell_type": "code",
   "execution_count": 36,
   "metadata": {},
   "outputs": [],
   "source": [
    "# dth_pack_inactive = df[df[\"subscription_status\"]==False]"
   ]
  },
  {
   "cell_type": "code",
   "execution_count": 37,
   "metadata": {},
   "outputs": [],
   "source": [
    "# fig = px.bar(x=df[\"ott_subscription\"],y=df[\"subscription_status\"],color=df[\"subscription_status\"])\n",
    "# fig.show()"
   ]
  },
  {
   "cell_type": "code",
   "execution_count": 38,
   "metadata": {},
   "outputs": [],
   "source": [
    "# g=sns.FacetGrid(df,col=\"ott_subscription\",height=5,aspect=.5)\n",
    "# g.map(sns.barplot,\"subscription_status\",\"dth_pack\")\n"
   ]
  },
  {
   "cell_type": "code",
   "execution_count": 39,
   "metadata": {},
   "outputs": [],
   "source": [
    "# for p in g.patches:\n",
    "#     g.annotate(format(p.get_height(), '.1f'), \n",
    "#                    (p.get_x() + p.get_width() / 2., p.get_height()), \n",
    "#                    ha = 'center', va = 'center', \n",
    "#                    size=15,\n",
    "#                    xytext = (0, -12), \n",
    "#                    textcoords = 'offset points')\n",
    "# plt.xlabel(\"Continent\", size=14)\n",
    "# plt.ylabel(\"LifeExp\", size=14)\n",
    "# plt.savefig(\"add_annotation_to_bars_in_barplot_Seaborn_Python.png\")"
   ]
  },
  {
   "cell_type": "code",
   "execution_count": 40,
   "metadata": {},
   "outputs": [
    {
     "data": {
      "image/png": "[encoded data removed]",
      "text/plain": [
       "<Figure size 1593.5x504 with 2 Axes>"
      ]
     },
     "metadata": {
      "needs_background": "light"
     },
     "output_type": "display_data"
    }
   ],
   "source": [
    "# 3)compare show most popular ott subsription dth pack\n",
    "\n",
    "g = sns.catplot(x=\"ott_subscription\",hue=\"dth_pack\",col =\"subscription_status\",data = df,kind=\"count\",height=7,aspect=1.5)\n",
    "g.savefig(\"ott_vs_dth_pack.jpg\")"
   ]
  },
  {
   "cell_type": "code",
   "execution_count": 41,
   "metadata": {},
   "outputs": [
    {
     "data": {
      "image/png": "[encoded data removed]",
      "text/plain": [
       "<Figure size 1595.12x504 with 2 Axes>"
      ]
     },
     "metadata": {
      "needs_background": "light"
     },
     "output_type": "display_data"
    }
   ],
   "source": [
    "## strong correlation between dth_price and pack so charts are almost similiar\n",
    "g = sns.catplot(x=\"ott_subscription\",hue=\"dth_pack_price\",col =\"subscription_status\",data = df,kind=\"count\",height=7,aspect=1.5)\n",
    "g.savefig(\"ott_vs_dth_pack_price.jpg\")"
   ]
  },
  {
   "cell_type": "code",
   "execution_count": null,
   "metadata": {},
   "outputs": [],
   "source": []
  },
  {
   "cell_type": "code",
   "execution_count": 42,
   "metadata": {},
   "outputs": [
    {
     "data": {
      "text/plain": [
       "7506"
      ]
     },
     "execution_count": 42,
     "metadata": {},
     "output_type": "execute_result"
    }
   ],
   "source": [
    "# active customer\n",
    "\n",
    "len(df[df[\"subscription_status\"]==1])"
   ]
  },
  {
   "cell_type": "code",
   "execution_count": 43,
   "metadata": {},
   "outputs": [
    {
     "data": {
      "text/plain": [
       "10000"
      ]
     },
     "execution_count": 43,
     "metadata": {},
     "output_type": "execute_result"
    }
   ],
   "source": [
    "#total customers\n",
    "\n",
    "len(df)"
   ]
  },
  {
   "cell_type": "code",
   "execution_count": 44,
   "metadata": {},
   "outputs": [
    {
     "data": {
      "text/plain": [
       "29.909999999999997"
      ]
     },
     "execution_count": 44,
     "metadata": {},
     "output_type": "execute_result"
    }
   ],
   "source": [
    "## churn rate\n",
    "churn_true = len(df[df[\"churn\"]==1])\n",
    "\n",
    "churn_rate = (churn_true / len(df))*100\n",
    "churn_rate"
   ]
  },
  {
   "cell_type": "code",
   "execution_count": 45,
   "metadata": {},
   "outputs": [
    {
     "data": {
      "text/plain": [
       "3110050"
      ]
     },
     "execution_count": 45,
     "metadata": {},
     "output_type": "execute_result"
    }
   ],
   "source": [
    "## expected monthly revenue\n",
    "\n",
    "expected_monthly_revenue = df[df[\"subscription_status\"]==1][\"dth_pack_price\"].sum()\n",
    "expected_monthly_revenue"
   ]
  },
  {
   "cell_type": "code",
   "execution_count": 46,
   "metadata": {},
   "outputs": [],
   "source": [
    "pred_churn_list = data_pred[\"pred_churn\"].value_counts().to_list()"
   ]
  },
  {
   "cell_type": "code",
   "execution_count": 47,
   "metadata": {},
   "outputs": [
    {
     "data": {
      "text/plain": [
       "0.0098"
      ]
     },
     "execution_count": 47,
     "metadata": {},
     "output_type": "execute_result"
    }
   ],
   "source": [
    "pred_churn_list[1] / (pred_churn_list[0]+pred_churn_list[1])"
   ]
  },
  {
   "cell_type": "code",
   "execution_count": 48,
   "metadata": {},
   "outputs": [
    {
     "data": {
      "text/plain": [
       "98"
      ]
     },
     "execution_count": 48,
     "metadata": {},
     "output_type": "execute_result"
    }
   ],
   "source": [
    "pred_churn_list[1]"
   ]
  },
  {
   "cell_type": "code",
   "execution_count": 49,
   "metadata": {},
   "outputs": [
    {
     "data": {
      "text/html": [
       "<div>\n",
       "<style scoped>\n",
       "    .dataframe tbody tr th:only-of-type {\n",
       "        vertical-align: middle;\n",
       "    }\n",
       "\n",
       "    .dataframe tbody tr th {\n",
       "        vertical-align: top;\n",
       "    }\n",
       "\n",
       "    .dataframe thead th {\n",
       "        text-align: right;\n",
       "    }\n",
       "</style>\n",
       "<table border=\"1\" class=\"dataframe\">\n",
       "  <thead>\n",
       "    <tr style=\"text-align: right;\">\n",
       "      <th></th>\n",
       "      <th>churn</th>\n",
       "    </tr>\n",
       "  </thead>\n",
       "  <tbody>\n",
       "    <tr>\n",
       "      <th>0</th>\n",
       "      <td>False</td>\n",
       "    </tr>\n",
       "    <tr>\n",
       "      <th>1</th>\n",
       "      <td>False</td>\n",
       "    </tr>\n",
       "    <tr>\n",
       "      <th>2</th>\n",
       "      <td>True</td>\n",
       "    </tr>\n",
       "    <tr>\n",
       "      <th>3</th>\n",
       "      <td>True</td>\n",
       "    </tr>\n",
       "    <tr>\n",
       "      <th>4</th>\n",
       "      <td>False</td>\n",
       "    </tr>\n",
       "    <tr>\n",
       "      <th>...</th>\n",
       "      <td>...</td>\n",
       "    </tr>\n",
       "    <tr>\n",
       "      <th>9995</th>\n",
       "      <td>False</td>\n",
       "    </tr>\n",
       "    <tr>\n",
       "      <th>9996</th>\n",
       "      <td>False</td>\n",
       "    </tr>\n",
       "    <tr>\n",
       "      <th>9997</th>\n",
       "      <td>False</td>\n",
       "    </tr>\n",
       "    <tr>\n",
       "      <th>9998</th>\n",
       "      <td>False</td>\n",
       "    </tr>\n",
       "    <tr>\n",
       "      <th>9999</th>\n",
       "      <td>False</td>\n",
       "    </tr>\n",
       "  </tbody>\n",
       "</table>\n",
       "<p>10000 rows × 1 columns</p>\n",
       "</div>"
      ],
      "text/plain": [
       "      churn\n",
       "0     False\n",
       "1     False\n",
       "2      True\n",
       "3      True\n",
       "4     False\n",
       "...     ...\n",
       "9995  False\n",
       "9996  False\n",
       "9997  False\n",
       "9998  False\n",
       "9999  False\n",
       "\n",
       "[10000 rows x 1 columns]"
      ]
     },
     "execution_count": 49,
     "metadata": {},
     "output_type": "execute_result"
    }
   ],
   "source": [
    "temp = pd.DataFrame(df['churn'])\n",
    "temp"
   ]
  },
  {
   "cell_type": "code",
   "execution_count": 64,
   "metadata": {},
   "outputs": [],
   "source": [
    "assert data_pred.empty == False"
   ]
  },
  {
   "cell_type": "code",
   "execution_count": null,
   "metadata": {},
   "outputs": [],
   "source": []
  }
 ],
 "metadata": {
  "kernelspec": {
   "display_name": "Python 3",
   "language": "python",
   "name": "python3"
  },
  "language_info": {
   "codemirror_mode": {
    "name": "ipython",
    "version": 3
   },
   "file_extension": ".py",
   "mimetype": "text/x-python",
   "name": "python",
   "nbconvert_exporter": "python",
   "pygments_lexer": "ipython3",
   "version": "3.7.7"
  }
 },
 "nbformat": 4,
 "nbformat_minor": 4
}
