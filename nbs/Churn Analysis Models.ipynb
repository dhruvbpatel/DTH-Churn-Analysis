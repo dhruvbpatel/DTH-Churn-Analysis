{
 "cells": [
  {
   "cell_type": "code",
   "execution_count": 152,
   "metadata": {},
   "outputs": [],
   "source": [
    "import pandas as pd\n",
    "import numpy as np\n",
    "\n",
    "import matplotlib.pyplot as plt\n",
    "import seaborn as sns\n",
    "%matplotlib inline\n",
    "\n",
    "\n",
    "\n",
    "import plotly\n",
    "import plotly.express as px\n",
    "import plotly\n",
    "import plotly.graph_objects as go\n",
    "import plotly.figure_factory as ff\n",
    "\n",
    "from sklearn.model_selection import train_test_split\n",
    "\n",
    "from sklearn.pipeline import Pipeline\n",
    "from sklearn.ensemble import RandomForestClassifier\n",
    "from sklearn.impute import SimpleImputer\n",
    "from sklearn.model_selection import GridSearchCV\n",
    "from xgboost import XGBClassifier\n",
    "\n",
    "from sklearn.metrics import mean_absolute_error\n",
    "from sklearn.preprocessing import OneHotEncoder\n",
    "# from sklearn.preprocessing import StandardScaler\n",
    "from sklearn.compose import ColumnTransformer\n",
    "# from sklearn.linear_model import ElasticNet\n",
    "from sklearn.metrics import accuracy_score,r2_score,confusion_matrix,plot_confusion_matrix\n",
    "\n",
    "import warnings\n",
    "warnings.filterwarnings('ignore')\n"
   ]
  },
  {
   "cell_type": "code",
   "execution_count": 71,
   "metadata": {},
   "outputs": [],
   "source": [
    "df_train_full = pd.read_csv(\"./../dth_data_1.csv\")"
   ]
  },
  {
   "cell_type": "code",
   "execution_count": 72,
   "metadata": {},
   "outputs": [
    {
     "data": {
      "text/html": [
       "<div>\n",
       "<style scoped>\n",
       "    .dataframe tbody tr th:only-of-type {\n",
       "        vertical-align: middle;\n",
       "    }\n",
       "\n",
       "    .dataframe tbody tr th {\n",
       "        vertical-align: top;\n",
       "    }\n",
       "\n",
       "    .dataframe thead th {\n",
       "        text-align: right;\n",
       "    }\n",
       "</style>\n",
       "<table border=\"1\" class=\"dataframe\">\n",
       "  <thead>\n",
       "    <tr style=\"text-align: right;\">\n",
       "      <th></th>\n",
       "      <th>names</th>\n",
       "      <th>address</th>\n",
       "      <th>city</th>\n",
       "      <th>phone_number</th>\n",
       "      <th>dth_pack</th>\n",
       "      <th>subscription_status</th>\n",
       "      <th>customer_class</th>\n",
       "      <th>ott_subscription</th>\n",
       "      <th>dth_pack_price</th>\n",
       "      <th>no_of_channels</th>\n",
       "      <th>active_since</th>\n",
       "      <th>viewtime</th>\n",
       "      <th>churn</th>\n",
       "    </tr>\n",
       "  </thead>\n",
       "  <tbody>\n",
       "    <tr>\n",
       "      <th>0</th>\n",
       "      <td>Autumn Jackson</td>\n",
       "      <td>1166 Max Pine,Selenastad, OR 84999</td>\n",
       "      <td>Nicholasview</td>\n",
       "      <td>001-299-668-9887x055</td>\n",
       "      <td>Standard</td>\n",
       "      <td>True</td>\n",
       "      <td>Individual</td>\n",
       "      <td>None</td>\n",
       "      <td>350</td>\n",
       "      <td>400</td>\n",
       "      <td>1245</td>\n",
       "      <td>315</td>\n",
       "      <td>False</td>\n",
       "    </tr>\n",
       "    <tr>\n",
       "      <th>1</th>\n",
       "      <td>Tiffany Molina</td>\n",
       "      <td>2897 Kari Skyway,Thomasside, ID 62645</td>\n",
       "      <td>New Davidtown</td>\n",
       "      <td>986-452-8168x704</td>\n",
       "      <td>HD</td>\n",
       "      <td>True</td>\n",
       "      <td>Individual</td>\n",
       "      <td>None</td>\n",
       "      <td>500</td>\n",
       "      <td>450</td>\n",
       "      <td>164</td>\n",
       "      <td>77</td>\n",
       "      <td>False</td>\n",
       "    </tr>\n",
       "    <tr>\n",
       "      <th>2</th>\n",
       "      <td>Andre King</td>\n",
       "      <td>9308 Williams Islands,Shawnborough, UT 79074</td>\n",
       "      <td>Michaelshire</td>\n",
       "      <td>+1-652-466-9356x692</td>\n",
       "      <td>HD</td>\n",
       "      <td>True</td>\n",
       "      <td>Individual</td>\n",
       "      <td>None</td>\n",
       "      <td>500</td>\n",
       "      <td>450</td>\n",
       "      <td>773</td>\n",
       "      <td>27</td>\n",
       "      <td>True</td>\n",
       "    </tr>\n",
       "    <tr>\n",
       "      <th>3</th>\n",
       "      <td>Dale Franco</td>\n",
       "      <td>989 Elizabeth Isle,Mayport, DC 08154</td>\n",
       "      <td>Lake Margaret</td>\n",
       "      <td>238.412.9721x813</td>\n",
       "      <td>HD</td>\n",
       "      <td>False</td>\n",
       "      <td>Home</td>\n",
       "      <td>Hulu</td>\n",
       "      <td>500</td>\n",
       "      <td>450</td>\n",
       "      <td>0</td>\n",
       "      <td>5632</td>\n",
       "      <td>True</td>\n",
       "    </tr>\n",
       "    <tr>\n",
       "      <th>4</th>\n",
       "      <td>Kimberly Taylor</td>\n",
       "      <td>Unit 8082 Box 6829,DPO AP 84673</td>\n",
       "      <td>Justinbury</td>\n",
       "      <td>530.337.6650x868</td>\n",
       "      <td>Standard</td>\n",
       "      <td>True</td>\n",
       "      <td>Home</td>\n",
       "      <td>Netflix</td>\n",
       "      <td>350</td>\n",
       "      <td>400</td>\n",
       "      <td>814</td>\n",
       "      <td>91</td>\n",
       "      <td>False</td>\n",
       "    </tr>\n",
       "    <tr>\n",
       "      <th>...</th>\n",
       "      <td>...</td>\n",
       "      <td>...</td>\n",
       "      <td>...</td>\n",
       "      <td>...</td>\n",
       "      <td>...</td>\n",
       "      <td>...</td>\n",
       "      <td>...</td>\n",
       "      <td>...</td>\n",
       "      <td>...</td>\n",
       "      <td>...</td>\n",
       "      <td>...</td>\n",
       "      <td>...</td>\n",
       "      <td>...</td>\n",
       "    </tr>\n",
       "    <tr>\n",
       "      <th>9995</th>\n",
       "      <td>Kenneth Meadows</td>\n",
       "      <td>257 Gonzalez Plaza Suite 874,Jenniferberg, TX ...</td>\n",
       "      <td>West Douglasbury</td>\n",
       "      <td>(099)701-9100x92220</td>\n",
       "      <td>Standard</td>\n",
       "      <td>True</td>\n",
       "      <td>Individual</td>\n",
       "      <td>None</td>\n",
       "      <td>350</td>\n",
       "      <td>400</td>\n",
       "      <td>1931</td>\n",
       "      <td>842</td>\n",
       "      <td>False</td>\n",
       "    </tr>\n",
       "    <tr>\n",
       "      <th>9996</th>\n",
       "      <td>James Barrett</td>\n",
       "      <td>095 Richard Path,Heatherfort, NC 16640</td>\n",
       "      <td>Christinefurt</td>\n",
       "      <td>7611399892</td>\n",
       "      <td>Standard</td>\n",
       "      <td>False</td>\n",
       "      <td>Individual</td>\n",
       "      <td>Other</td>\n",
       "      <td>350</td>\n",
       "      <td>400</td>\n",
       "      <td>0</td>\n",
       "      <td>8299</td>\n",
       "      <td>False</td>\n",
       "    </tr>\n",
       "    <tr>\n",
       "      <th>9997</th>\n",
       "      <td>Barbara Torres</td>\n",
       "      <td>6232 Melissa Valleys Apt. 625,Whitebury, NV 73519</td>\n",
       "      <td>West Anthonyville</td>\n",
       "      <td>(254)791-1312</td>\n",
       "      <td>UHD</td>\n",
       "      <td>False</td>\n",
       "      <td>Commercial</td>\n",
       "      <td>Hulu</td>\n",
       "      <td>700</td>\n",
       "      <td>500</td>\n",
       "      <td>0</td>\n",
       "      <td>2635</td>\n",
       "      <td>False</td>\n",
       "    </tr>\n",
       "    <tr>\n",
       "      <th>9998</th>\n",
       "      <td>James Williams</td>\n",
       "      <td>49214 Sierra Brook Apt. 166,Port Jessica, IL 2...</td>\n",
       "      <td>Port Jennifertown</td>\n",
       "      <td>336.043.6761x397</td>\n",
       "      <td>HD</td>\n",
       "      <td>True</td>\n",
       "      <td>Home</td>\n",
       "      <td>None</td>\n",
       "      <td>500</td>\n",
       "      <td>450</td>\n",
       "      <td>1436</td>\n",
       "      <td>627</td>\n",
       "      <td>False</td>\n",
       "    </tr>\n",
       "    <tr>\n",
       "      <th>9999</th>\n",
       "      <td>Wendy Murray</td>\n",
       "      <td>9636 Marcus Spring,Port Joshua, CA 21855</td>\n",
       "      <td>West Brittanyview</td>\n",
       "      <td>831-804-6133</td>\n",
       "      <td>UHD</td>\n",
       "      <td>True</td>\n",
       "      <td>Individual</td>\n",
       "      <td>Hulu</td>\n",
       "      <td>700</td>\n",
       "      <td>500</td>\n",
       "      <td>1766</td>\n",
       "      <td>225</td>\n",
       "      <td>False</td>\n",
       "    </tr>\n",
       "  </tbody>\n",
       "</table>\n",
       "<p>10000 rows × 13 columns</p>\n",
       "</div>"
      ],
      "text/plain": [
       "                names                                            address  \\\n",
       "0      Autumn Jackson                 1166 Max Pine,Selenastad, OR 84999   \n",
       "1      Tiffany Molina              2897 Kari Skyway,Thomasside, ID 62645   \n",
       "2          Andre King       9308 Williams Islands,Shawnborough, UT 79074   \n",
       "3         Dale Franco               989 Elizabeth Isle,Mayport, DC 08154   \n",
       "4     Kimberly Taylor                    Unit 8082 Box 6829,DPO AP 84673   \n",
       "...               ...                                                ...   \n",
       "9995  Kenneth Meadows  257 Gonzalez Plaza Suite 874,Jenniferberg, TX ...   \n",
       "9996    James Barrett             095 Richard Path,Heatherfort, NC 16640   \n",
       "9997   Barbara Torres  6232 Melissa Valleys Apt. 625,Whitebury, NV 73519   \n",
       "9998   James Williams  49214 Sierra Brook Apt. 166,Port Jessica, IL 2...   \n",
       "9999     Wendy Murray           9636 Marcus Spring,Port Joshua, CA 21855   \n",
       "\n",
       "                   city          phone_number  dth_pack  subscription_status  \\\n",
       "0          Nicholasview  001-299-668-9887x055  Standard                 True   \n",
       "1         New Davidtown      986-452-8168x704        HD                 True   \n",
       "2          Michaelshire   +1-652-466-9356x692        HD                 True   \n",
       "3         Lake Margaret      238.412.9721x813        HD                False   \n",
       "4            Justinbury      530.337.6650x868  Standard                 True   \n",
       "...                 ...                   ...       ...                  ...   \n",
       "9995   West Douglasbury   (099)701-9100x92220  Standard                 True   \n",
       "9996      Christinefurt            7611399892  Standard                False   \n",
       "9997  West Anthonyville         (254)791-1312       UHD                False   \n",
       "9998  Port Jennifertown      336.043.6761x397        HD                 True   \n",
       "9999  West Brittanyview          831-804-6133       UHD                 True   \n",
       "\n",
       "     customer_class ott_subscription  dth_pack_price  no_of_channels  \\\n",
       "0        Individual             None             350             400   \n",
       "1        Individual             None             500             450   \n",
       "2        Individual             None             500             450   \n",
       "3              Home             Hulu             500             450   \n",
       "4              Home          Netflix             350             400   \n",
       "...             ...              ...             ...             ...   \n",
       "9995     Individual             None             350             400   \n",
       "9996     Individual            Other             350             400   \n",
       "9997     Commercial             Hulu             700             500   \n",
       "9998           Home             None             500             450   \n",
       "9999     Individual             Hulu             700             500   \n",
       "\n",
       "      active_since  viewtime  churn  \n",
       "0             1245       315  False  \n",
       "1              164        77  False  \n",
       "2              773        27   True  \n",
       "3                0      5632   True  \n",
       "4              814        91  False  \n",
       "...            ...       ...    ...  \n",
       "9995          1931       842  False  \n",
       "9996             0      8299  False  \n",
       "9997             0      2635  False  \n",
       "9998          1436       627  False  \n",
       "9999          1766       225  False  \n",
       "\n",
       "[10000 rows x 13 columns]"
      ]
     },
     "execution_count": 72,
     "metadata": {},
     "output_type": "execute_result"
    }
   ],
   "source": [
    "df_train_full"
   ]
  },
  {
   "cell_type": "code",
   "execution_count": 73,
   "metadata": {},
   "outputs": [
    {
     "data": {
      "text/plain": [
       "Index(['names', 'address', 'city', 'phone_number', 'dth_pack',\n",
       "       'subscription_status', 'customer_class', 'ott_subscription',\n",
       "       'dth_pack_price', 'no_of_channels', 'active_since', 'viewtime',\n",
       "       'churn'],\n",
       "      dtype='object')"
      ]
     },
     "execution_count": 73,
     "metadata": {},
     "output_type": "execute_result"
    }
   ],
   "source": [
    "df_train_full.columns"
   ]
  },
  {
   "cell_type": "code",
   "execution_count": 74,
   "metadata": {},
   "outputs": [],
   "source": [
    "cols = df_train_full.columns.to_list()"
   ]
  },
  {
   "cell_type": "code",
   "execution_count": 75,
   "metadata": {},
   "outputs": [
    {
     "data": {
      "text/plain": [
       "['names',\n",
       " 'address',\n",
       " 'city',\n",
       " 'phone_number',\n",
       " 'dth_pack',\n",
       " 'subscription_status',\n",
       " 'customer_class',\n",
       " 'ott_subscription',\n",
       " 'dth_pack_price',\n",
       " 'no_of_channels',\n",
       " 'active_since',\n",
       " 'viewtime',\n",
       " 'churn']"
      ]
     },
     "execution_count": 75,
     "metadata": {},
     "output_type": "execute_result"
    }
   ],
   "source": [
    "cols"
   ]
  },
  {
   "cell_type": "code",
   "execution_count": 76,
   "metadata": {},
   "outputs": [
    {
     "name": "stdout",
     "output_type": "stream",
     "text": [
      "<class 'pandas.core.frame.DataFrame'>\n",
      "RangeIndex: 10000 entries, 0 to 9999\n",
      "Data columns (total 13 columns):\n",
      " #   Column               Non-Null Count  Dtype \n",
      "---  ------               --------------  ----- \n",
      " 0   names                10000 non-null  object\n",
      " 1   address              10000 non-null  object\n",
      " 2   city                 10000 non-null  object\n",
      " 3   phone_number         10000 non-null  object\n",
      " 4   dth_pack             10000 non-null  object\n",
      " 5   subscription_status  10000 non-null  bool  \n",
      " 6   customer_class       10000 non-null  object\n",
      " 7   ott_subscription     10000 non-null  object\n",
      " 8   dth_pack_price       10000 non-null  int64 \n",
      " 9   no_of_channels       10000 non-null  int64 \n",
      " 10  active_since         10000 non-null  int64 \n",
      " 11  viewtime             10000 non-null  int64 \n",
      " 12  churn                10000 non-null  bool  \n",
      "dtypes: bool(2), int64(4), object(7)\n",
      "memory usage: 879.0+ KB\n"
     ]
    }
   ],
   "source": [
    "df_train_full.info()"
   ]
  },
  {
   "cell_type": "code",
   "execution_count": 77,
   "metadata": {},
   "outputs": [
    {
     "data": {
      "text/plain": [
       "10000"
      ]
     },
     "execution_count": 77,
     "metadata": {},
     "output_type": "execute_result"
    }
   ],
   "source": [
    "len(df_train_full)"
   ]
  },
  {
   "cell_type": "code",
   "execution_count": 78,
   "metadata": {},
   "outputs": [
    {
     "data": {
      "text/plain": [
       "names                  0\n",
       "address                0\n",
       "city                   0\n",
       "phone_number           0\n",
       "dth_pack               0\n",
       "subscription_status    0\n",
       "customer_class         0\n",
       "ott_subscription       0\n",
       "dth_pack_price         0\n",
       "no_of_channels         0\n",
       "active_since           0\n",
       "viewtime               0\n",
       "churn                  0\n",
       "dtype: int64"
      ]
     },
     "execution_count": 78,
     "metadata": {},
     "output_type": "execute_result"
    }
   ],
   "source": [
    "df_train_full.isnull().sum()  ## no missing values"
   ]
  },
  {
   "cell_type": "code",
   "execution_count": 79,
   "metadata": {},
   "outputs": [],
   "source": [
    "cat_cols = [cname for cname in df_train_full.columns if (df_train_full[cname].dtype==\"object\" or df_train_full[cname].dtype==\"bool\") and df_train_full[cname].nunique()<20]\n",
    "num_cols = [cname for cname in df_train_full.columns if df_train_full[cname].dtype==\"int64\"]"
   ]
  },
  {
   "cell_type": "code",
   "execution_count": 80,
   "metadata": {},
   "outputs": [
    {
     "data": {
      "text/plain": [
       "['dth_pack',\n",
       " 'subscription_status',\n",
       " 'customer_class',\n",
       " 'ott_subscription',\n",
       " 'churn']"
      ]
     },
     "execution_count": 80,
     "metadata": {},
     "output_type": "execute_result"
    }
   ],
   "source": [
    "cat_cols"
   ]
  },
  {
   "cell_type": "code",
   "execution_count": 81,
   "metadata": {},
   "outputs": [
    {
     "data": {
      "text/plain": [
       "['dth_pack_price', 'no_of_channels', 'active_since', 'viewtime']"
      ]
     },
     "execution_count": 81,
     "metadata": {},
     "output_type": "execute_result"
    }
   ],
   "source": [
    "num_cols"
   ]
  },
  {
   "cell_type": "code",
   "execution_count": 82,
   "metadata": {},
   "outputs": [],
   "source": [
    "df_Xtrain = df_train_full[num_cols+cat_cols]"
   ]
  },
  {
   "cell_type": "code",
   "execution_count": 83,
   "metadata": {},
   "outputs": [
    {
     "data": {
      "text/html": [
       "<div>\n",
       "<style scoped>\n",
       "    .dataframe tbody tr th:only-of-type {\n",
       "        vertical-align: middle;\n",
       "    }\n",
       "\n",
       "    .dataframe tbody tr th {\n",
       "        vertical-align: top;\n",
       "    }\n",
       "\n",
       "    .dataframe thead th {\n",
       "        text-align: right;\n",
       "    }\n",
       "</style>\n",
       "<table border=\"1\" class=\"dataframe\">\n",
       "  <thead>\n",
       "    <tr style=\"text-align: right;\">\n",
       "      <th></th>\n",
       "      <th>dth_pack_price</th>\n",
       "      <th>no_of_channels</th>\n",
       "      <th>active_since</th>\n",
       "      <th>viewtime</th>\n",
       "      <th>dth_pack</th>\n",
       "      <th>subscription_status</th>\n",
       "      <th>customer_class</th>\n",
       "      <th>ott_subscription</th>\n",
       "      <th>churn</th>\n",
       "    </tr>\n",
       "  </thead>\n",
       "  <tbody>\n",
       "    <tr>\n",
       "      <th>0</th>\n",
       "      <td>350</td>\n",
       "      <td>400</td>\n",
       "      <td>1245</td>\n",
       "      <td>315</td>\n",
       "      <td>Standard</td>\n",
       "      <td>True</td>\n",
       "      <td>Individual</td>\n",
       "      <td>None</td>\n",
       "      <td>False</td>\n",
       "    </tr>\n",
       "    <tr>\n",
       "      <th>1</th>\n",
       "      <td>500</td>\n",
       "      <td>450</td>\n",
       "      <td>164</td>\n",
       "      <td>77</td>\n",
       "      <td>HD</td>\n",
       "      <td>True</td>\n",
       "      <td>Individual</td>\n",
       "      <td>None</td>\n",
       "      <td>False</td>\n",
       "    </tr>\n",
       "    <tr>\n",
       "      <th>2</th>\n",
       "      <td>500</td>\n",
       "      <td>450</td>\n",
       "      <td>773</td>\n",
       "      <td>27</td>\n",
       "      <td>HD</td>\n",
       "      <td>True</td>\n",
       "      <td>Individual</td>\n",
       "      <td>None</td>\n",
       "      <td>True</td>\n",
       "    </tr>\n",
       "    <tr>\n",
       "      <th>3</th>\n",
       "      <td>500</td>\n",
       "      <td>450</td>\n",
       "      <td>0</td>\n",
       "      <td>5632</td>\n",
       "      <td>HD</td>\n",
       "      <td>False</td>\n",
       "      <td>Home</td>\n",
       "      <td>Hulu</td>\n",
       "      <td>True</td>\n",
       "    </tr>\n",
       "    <tr>\n",
       "      <th>4</th>\n",
       "      <td>350</td>\n",
       "      <td>400</td>\n",
       "      <td>814</td>\n",
       "      <td>91</td>\n",
       "      <td>Standard</td>\n",
       "      <td>True</td>\n",
       "      <td>Home</td>\n",
       "      <td>Netflix</td>\n",
       "      <td>False</td>\n",
       "    </tr>\n",
       "    <tr>\n",
       "      <th>...</th>\n",
       "      <td>...</td>\n",
       "      <td>...</td>\n",
       "      <td>...</td>\n",
       "      <td>...</td>\n",
       "      <td>...</td>\n",
       "      <td>...</td>\n",
       "      <td>...</td>\n",
       "      <td>...</td>\n",
       "      <td>...</td>\n",
       "    </tr>\n",
       "    <tr>\n",
       "      <th>9995</th>\n",
       "      <td>350</td>\n",
       "      <td>400</td>\n",
       "      <td>1931</td>\n",
       "      <td>842</td>\n",
       "      <td>Standard</td>\n",
       "      <td>True</td>\n",
       "      <td>Individual</td>\n",
       "      <td>None</td>\n",
       "      <td>False</td>\n",
       "    </tr>\n",
       "    <tr>\n",
       "      <th>9996</th>\n",
       "      <td>350</td>\n",
       "      <td>400</td>\n",
       "      <td>0</td>\n",
       "      <td>8299</td>\n",
       "      <td>Standard</td>\n",
       "      <td>False</td>\n",
       "      <td>Individual</td>\n",
       "      <td>Other</td>\n",
       "      <td>False</td>\n",
       "    </tr>\n",
       "    <tr>\n",
       "      <th>9997</th>\n",
       "      <td>700</td>\n",
       "      <td>500</td>\n",
       "      <td>0</td>\n",
       "      <td>2635</td>\n",
       "      <td>UHD</td>\n",
       "      <td>False</td>\n",
       "      <td>Commercial</td>\n",
       "      <td>Hulu</td>\n",
       "      <td>False</td>\n",
       "    </tr>\n",
       "    <tr>\n",
       "      <th>9998</th>\n",
       "      <td>500</td>\n",
       "      <td>450</td>\n",
       "      <td>1436</td>\n",
       "      <td>627</td>\n",
       "      <td>HD</td>\n",
       "      <td>True</td>\n",
       "      <td>Home</td>\n",
       "      <td>None</td>\n",
       "      <td>False</td>\n",
       "    </tr>\n",
       "    <tr>\n",
       "      <th>9999</th>\n",
       "      <td>700</td>\n",
       "      <td>500</td>\n",
       "      <td>1766</td>\n",
       "      <td>225</td>\n",
       "      <td>UHD</td>\n",
       "      <td>True</td>\n",
       "      <td>Individual</td>\n",
       "      <td>Hulu</td>\n",
       "      <td>False</td>\n",
       "    </tr>\n",
       "  </tbody>\n",
       "</table>\n",
       "<p>10000 rows × 9 columns</p>\n",
       "</div>"
      ],
      "text/plain": [
       "      dth_pack_price  no_of_channels  active_since  viewtime  dth_pack  \\\n",
       "0                350             400          1245       315  Standard   \n",
       "1                500             450           164        77        HD   \n",
       "2                500             450           773        27        HD   \n",
       "3                500             450             0      5632        HD   \n",
       "4                350             400           814        91  Standard   \n",
       "...              ...             ...           ...       ...       ...   \n",
       "9995             350             400          1931       842  Standard   \n",
       "9996             350             400             0      8299  Standard   \n",
       "9997             700             500             0      2635       UHD   \n",
       "9998             500             450          1436       627        HD   \n",
       "9999             700             500          1766       225       UHD   \n",
       "\n",
       "      subscription_status customer_class ott_subscription  churn  \n",
       "0                    True     Individual             None  False  \n",
       "1                    True     Individual             None  False  \n",
       "2                    True     Individual             None   True  \n",
       "3                   False           Home             Hulu   True  \n",
       "4                    True           Home          Netflix  False  \n",
       "...                   ...            ...              ...    ...  \n",
       "9995                 True     Individual             None  False  \n",
       "9996                False     Individual            Other  False  \n",
       "9997                False     Commercial             Hulu  False  \n",
       "9998                 True           Home             None  False  \n",
       "9999                 True     Individual             Hulu  False  \n",
       "\n",
       "[10000 rows x 9 columns]"
      ]
     },
     "execution_count": 83,
     "metadata": {},
     "output_type": "execute_result"
    }
   ],
   "source": [
    "df_Xtrain"
   ]
  },
  {
   "cell_type": "code",
   "execution_count": 84,
   "metadata": {},
   "outputs": [
    {
     "data": {
      "text/plain": [
       "dth_pack_price         0\n",
       "no_of_channels         0\n",
       "active_since           0\n",
       "viewtime               0\n",
       "dth_pack               0\n",
       "subscription_status    0\n",
       "customer_class         0\n",
       "ott_subscription       0\n",
       "churn                  0\n",
       "dtype: int64"
      ]
     },
     "execution_count": 84,
     "metadata": {},
     "output_type": "execute_result"
    }
   ],
   "source": [
    "df_Xtrain.isnull().sum()  # no missing values"
   ]
  },
  {
   "cell_type": "code",
   "execution_count": 85,
   "metadata": {},
   "outputs": [],
   "source": [
    "## handling boolean categorical variables\n",
    "\n",
    "df_Xtrain[\"subscription_status\"] = df_Xtrain[\"subscription_status\"].astype('category')\n",
    "df_Xtrain[\"subscription_status\"] = df_Xtrain[\"subscription_status\"].cat.codes\n",
    "df_Xtrain[\"subscription_status\"] = df_Xtrain[\"subscription_status\"].astype('int64')\n"
   ]
  },
  {
   "cell_type": "code",
   "execution_count": 86,
   "metadata": {},
   "outputs": [],
   "source": [
    "df_Xtrain[\"churn\"] = df_Xtrain[\"churn\"].astype('category')\n",
    "df_Xtrain[\"churn\"] = df_Xtrain[\"churn\"].cat.codes\n",
    "df_Xtrain[\"churn\"] = df_Xtrain[\"churn\"].astype('int64')\n"
   ]
  },
  {
   "cell_type": "code",
   "execution_count": 87,
   "metadata": {},
   "outputs": [
    {
     "data": {
      "text/html": [
       "<div>\n",
       "<style scoped>\n",
       "    .dataframe tbody tr th:only-of-type {\n",
       "        vertical-align: middle;\n",
       "    }\n",
       "\n",
       "    .dataframe tbody tr th {\n",
       "        vertical-align: top;\n",
       "    }\n",
       "\n",
       "    .dataframe thead th {\n",
       "        text-align: right;\n",
       "    }\n",
       "</style>\n",
       "<table border=\"1\" class=\"dataframe\">\n",
       "  <thead>\n",
       "    <tr style=\"text-align: right;\">\n",
       "      <th></th>\n",
       "      <th>dth_pack_price</th>\n",
       "      <th>no_of_channels</th>\n",
       "      <th>active_since</th>\n",
       "      <th>viewtime</th>\n",
       "      <th>dth_pack</th>\n",
       "      <th>subscription_status</th>\n",
       "      <th>customer_class</th>\n",
       "      <th>ott_subscription</th>\n",
       "      <th>churn</th>\n",
       "    </tr>\n",
       "  </thead>\n",
       "  <tbody>\n",
       "    <tr>\n",
       "      <th>0</th>\n",
       "      <td>350</td>\n",
       "      <td>400</td>\n",
       "      <td>1245</td>\n",
       "      <td>315</td>\n",
       "      <td>Standard</td>\n",
       "      <td>1</td>\n",
       "      <td>Individual</td>\n",
       "      <td>None</td>\n",
       "      <td>0</td>\n",
       "    </tr>\n",
       "    <tr>\n",
       "      <th>1</th>\n",
       "      <td>500</td>\n",
       "      <td>450</td>\n",
       "      <td>164</td>\n",
       "      <td>77</td>\n",
       "      <td>HD</td>\n",
       "      <td>1</td>\n",
       "      <td>Individual</td>\n",
       "      <td>None</td>\n",
       "      <td>0</td>\n",
       "    </tr>\n",
       "    <tr>\n",
       "      <th>2</th>\n",
       "      <td>500</td>\n",
       "      <td>450</td>\n",
       "      <td>773</td>\n",
       "      <td>27</td>\n",
       "      <td>HD</td>\n",
       "      <td>1</td>\n",
       "      <td>Individual</td>\n",
       "      <td>None</td>\n",
       "      <td>1</td>\n",
       "    </tr>\n",
       "    <tr>\n",
       "      <th>3</th>\n",
       "      <td>500</td>\n",
       "      <td>450</td>\n",
       "      <td>0</td>\n",
       "      <td>5632</td>\n",
       "      <td>HD</td>\n",
       "      <td>0</td>\n",
       "      <td>Home</td>\n",
       "      <td>Hulu</td>\n",
       "      <td>1</td>\n",
       "    </tr>\n",
       "    <tr>\n",
       "      <th>4</th>\n",
       "      <td>350</td>\n",
       "      <td>400</td>\n",
       "      <td>814</td>\n",
       "      <td>91</td>\n",
       "      <td>Standard</td>\n",
       "      <td>1</td>\n",
       "      <td>Home</td>\n",
       "      <td>Netflix</td>\n",
       "      <td>0</td>\n",
       "    </tr>\n",
       "    <tr>\n",
       "      <th>...</th>\n",
       "      <td>...</td>\n",
       "      <td>...</td>\n",
       "      <td>...</td>\n",
       "      <td>...</td>\n",
       "      <td>...</td>\n",
       "      <td>...</td>\n",
       "      <td>...</td>\n",
       "      <td>...</td>\n",
       "      <td>...</td>\n",
       "    </tr>\n",
       "    <tr>\n",
       "      <th>9995</th>\n",
       "      <td>350</td>\n",
       "      <td>400</td>\n",
       "      <td>1931</td>\n",
       "      <td>842</td>\n",
       "      <td>Standard</td>\n",
       "      <td>1</td>\n",
       "      <td>Individual</td>\n",
       "      <td>None</td>\n",
       "      <td>0</td>\n",
       "    </tr>\n",
       "    <tr>\n",
       "      <th>9996</th>\n",
       "      <td>350</td>\n",
       "      <td>400</td>\n",
       "      <td>0</td>\n",
       "      <td>8299</td>\n",
       "      <td>Standard</td>\n",
       "      <td>0</td>\n",
       "      <td>Individual</td>\n",
       "      <td>Other</td>\n",
       "      <td>0</td>\n",
       "    </tr>\n",
       "    <tr>\n",
       "      <th>9997</th>\n",
       "      <td>700</td>\n",
       "      <td>500</td>\n",
       "      <td>0</td>\n",
       "      <td>2635</td>\n",
       "      <td>UHD</td>\n",
       "      <td>0</td>\n",
       "      <td>Commercial</td>\n",
       "      <td>Hulu</td>\n",
       "      <td>0</td>\n",
       "    </tr>\n",
       "    <tr>\n",
       "      <th>9998</th>\n",
       "      <td>500</td>\n",
       "      <td>450</td>\n",
       "      <td>1436</td>\n",
       "      <td>627</td>\n",
       "      <td>HD</td>\n",
       "      <td>1</td>\n",
       "      <td>Home</td>\n",
       "      <td>None</td>\n",
       "      <td>0</td>\n",
       "    </tr>\n",
       "    <tr>\n",
       "      <th>9999</th>\n",
       "      <td>700</td>\n",
       "      <td>500</td>\n",
       "      <td>1766</td>\n",
       "      <td>225</td>\n",
       "      <td>UHD</td>\n",
       "      <td>1</td>\n",
       "      <td>Individual</td>\n",
       "      <td>Hulu</td>\n",
       "      <td>0</td>\n",
       "    </tr>\n",
       "  </tbody>\n",
       "</table>\n",
       "<p>10000 rows × 9 columns</p>\n",
       "</div>"
      ],
      "text/plain": [
       "      dth_pack_price  no_of_channels  active_since  viewtime  dth_pack  \\\n",
       "0                350             400          1245       315  Standard   \n",
       "1                500             450           164        77        HD   \n",
       "2                500             450           773        27        HD   \n",
       "3                500             450             0      5632        HD   \n",
       "4                350             400           814        91  Standard   \n",
       "...              ...             ...           ...       ...       ...   \n",
       "9995             350             400          1931       842  Standard   \n",
       "9996             350             400             0      8299  Standard   \n",
       "9997             700             500             0      2635       UHD   \n",
       "9998             500             450          1436       627        HD   \n",
       "9999             700             500          1766       225       UHD   \n",
       "\n",
       "      subscription_status customer_class ott_subscription  churn  \n",
       "0                       1     Individual             None      0  \n",
       "1                       1     Individual             None      0  \n",
       "2                       1     Individual             None      1  \n",
       "3                       0           Home             Hulu      1  \n",
       "4                       1           Home          Netflix      0  \n",
       "...                   ...            ...              ...    ...  \n",
       "9995                    1     Individual             None      0  \n",
       "9996                    0     Individual            Other      0  \n",
       "9997                    0     Commercial             Hulu      0  \n",
       "9998                    1           Home             None      0  \n",
       "9999                    1     Individual             Hulu      0  \n",
       "\n",
       "[10000 rows x 9 columns]"
      ]
     },
     "execution_count": 87,
     "metadata": {},
     "output_type": "execute_result"
    }
   ],
   "source": [
    "df_Xtrain"
   ]
  },
  {
   "cell_type": "code",
   "execution_count": 88,
   "metadata": {},
   "outputs": [
    {
     "name": "stdout",
     "output_type": "stream",
     "text": [
      "<class 'pandas.core.frame.DataFrame'>\n",
      "RangeIndex: 10000 entries, 0 to 9999\n",
      "Data columns (total 9 columns):\n",
      " #   Column               Non-Null Count  Dtype \n",
      "---  ------               --------------  ----- \n",
      " 0   dth_pack_price       10000 non-null  int64 \n",
      " 1   no_of_channels       10000 non-null  int64 \n",
      " 2   active_since         10000 non-null  int64 \n",
      " 3   viewtime             10000 non-null  int64 \n",
      " 4   dth_pack             10000 non-null  object\n",
      " 5   subscription_status  10000 non-null  int64 \n",
      " 6   customer_class       10000 non-null  object\n",
      " 7   ott_subscription     10000 non-null  object\n",
      " 8   churn                10000 non-null  int64 \n",
      "dtypes: int64(6), object(3)\n",
      "memory usage: 703.2+ KB\n"
     ]
    }
   ],
   "source": [
    "df_Xtrain.info()"
   ]
  },
  {
   "cell_type": "code",
   "execution_count": 89,
   "metadata": {},
   "outputs": [],
   "source": [
    "df_Xtrain.dropna(axis=0,subset=[\"churn\"],inplace = True)"
   ]
  },
  {
   "cell_type": "code",
   "execution_count": 90,
   "metadata": {},
   "outputs": [],
   "source": [
    "X = df_Xtrain\n",
    "y = df_Xtrain.churn\n",
    "X.drop([\"churn\"],axis = 1, inplace = True)"
   ]
  },
  {
   "cell_type": "code",
   "execution_count": 91,
   "metadata": {},
   "outputs": [
    {
     "data": {
      "text/html": [
       "<div>\n",
       "<style scoped>\n",
       "    .dataframe tbody tr th:only-of-type {\n",
       "        vertical-align: middle;\n",
       "    }\n",
       "\n",
       "    .dataframe tbody tr th {\n",
       "        vertical-align: top;\n",
       "    }\n",
       "\n",
       "    .dataframe thead th {\n",
       "        text-align: right;\n",
       "    }\n",
       "</style>\n",
       "<table border=\"1\" class=\"dataframe\">\n",
       "  <thead>\n",
       "    <tr style=\"text-align: right;\">\n",
       "      <th></th>\n",
       "      <th>dth_pack_price</th>\n",
       "      <th>no_of_channels</th>\n",
       "      <th>active_since</th>\n",
       "      <th>viewtime</th>\n",
       "      <th>dth_pack</th>\n",
       "      <th>subscription_status</th>\n",
       "      <th>customer_class</th>\n",
       "      <th>ott_subscription</th>\n",
       "    </tr>\n",
       "  </thead>\n",
       "  <tbody>\n",
       "    <tr>\n",
       "      <th>0</th>\n",
       "      <td>350</td>\n",
       "      <td>400</td>\n",
       "      <td>1245</td>\n",
       "      <td>315</td>\n",
       "      <td>Standard</td>\n",
       "      <td>1</td>\n",
       "      <td>Individual</td>\n",
       "      <td>None</td>\n",
       "    </tr>\n",
       "    <tr>\n",
       "      <th>1</th>\n",
       "      <td>500</td>\n",
       "      <td>450</td>\n",
       "      <td>164</td>\n",
       "      <td>77</td>\n",
       "      <td>HD</td>\n",
       "      <td>1</td>\n",
       "      <td>Individual</td>\n",
       "      <td>None</td>\n",
       "    </tr>\n",
       "    <tr>\n",
       "      <th>2</th>\n",
       "      <td>500</td>\n",
       "      <td>450</td>\n",
       "      <td>773</td>\n",
       "      <td>27</td>\n",
       "      <td>HD</td>\n",
       "      <td>1</td>\n",
       "      <td>Individual</td>\n",
       "      <td>None</td>\n",
       "    </tr>\n",
       "    <tr>\n",
       "      <th>3</th>\n",
       "      <td>500</td>\n",
       "      <td>450</td>\n",
       "      <td>0</td>\n",
       "      <td>5632</td>\n",
       "      <td>HD</td>\n",
       "      <td>0</td>\n",
       "      <td>Home</td>\n",
       "      <td>Hulu</td>\n",
       "    </tr>\n",
       "    <tr>\n",
       "      <th>4</th>\n",
       "      <td>350</td>\n",
       "      <td>400</td>\n",
       "      <td>814</td>\n",
       "      <td>91</td>\n",
       "      <td>Standard</td>\n",
       "      <td>1</td>\n",
       "      <td>Home</td>\n",
       "      <td>Netflix</td>\n",
       "    </tr>\n",
       "    <tr>\n",
       "      <th>...</th>\n",
       "      <td>...</td>\n",
       "      <td>...</td>\n",
       "      <td>...</td>\n",
       "      <td>...</td>\n",
       "      <td>...</td>\n",
       "      <td>...</td>\n",
       "      <td>...</td>\n",
       "      <td>...</td>\n",
       "    </tr>\n",
       "    <tr>\n",
       "      <th>9995</th>\n",
       "      <td>350</td>\n",
       "      <td>400</td>\n",
       "      <td>1931</td>\n",
       "      <td>842</td>\n",
       "      <td>Standard</td>\n",
       "      <td>1</td>\n",
       "      <td>Individual</td>\n",
       "      <td>None</td>\n",
       "    </tr>\n",
       "    <tr>\n",
       "      <th>9996</th>\n",
       "      <td>350</td>\n",
       "      <td>400</td>\n",
       "      <td>0</td>\n",
       "      <td>8299</td>\n",
       "      <td>Standard</td>\n",
       "      <td>0</td>\n",
       "      <td>Individual</td>\n",
       "      <td>Other</td>\n",
       "    </tr>\n",
       "    <tr>\n",
       "      <th>9997</th>\n",
       "      <td>700</td>\n",
       "      <td>500</td>\n",
       "      <td>0</td>\n",
       "      <td>2635</td>\n",
       "      <td>UHD</td>\n",
       "      <td>0</td>\n",
       "      <td>Commercial</td>\n",
       "      <td>Hulu</td>\n",
       "    </tr>\n",
       "    <tr>\n",
       "      <th>9998</th>\n",
       "      <td>500</td>\n",
       "      <td>450</td>\n",
       "      <td>1436</td>\n",
       "      <td>627</td>\n",
       "      <td>HD</td>\n",
       "      <td>1</td>\n",
       "      <td>Home</td>\n",
       "      <td>None</td>\n",
       "    </tr>\n",
       "    <tr>\n",
       "      <th>9999</th>\n",
       "      <td>700</td>\n",
       "      <td>500</td>\n",
       "      <td>1766</td>\n",
       "      <td>225</td>\n",
       "      <td>UHD</td>\n",
       "      <td>1</td>\n",
       "      <td>Individual</td>\n",
       "      <td>Hulu</td>\n",
       "    </tr>\n",
       "  </tbody>\n",
       "</table>\n",
       "<p>10000 rows × 8 columns</p>\n",
       "</div>"
      ],
      "text/plain": [
       "      dth_pack_price  no_of_channels  active_since  viewtime  dth_pack  \\\n",
       "0                350             400          1245       315  Standard   \n",
       "1                500             450           164        77        HD   \n",
       "2                500             450           773        27        HD   \n",
       "3                500             450             0      5632        HD   \n",
       "4                350             400           814        91  Standard   \n",
       "...              ...             ...           ...       ...       ...   \n",
       "9995             350             400          1931       842  Standard   \n",
       "9996             350             400             0      8299  Standard   \n",
       "9997             700             500             0      2635       UHD   \n",
       "9998             500             450          1436       627        HD   \n",
       "9999             700             500          1766       225       UHD   \n",
       "\n",
       "      subscription_status customer_class ott_subscription  \n",
       "0                       1     Individual             None  \n",
       "1                       1     Individual             None  \n",
       "2                       1     Individual             None  \n",
       "3                       0           Home             Hulu  \n",
       "4                       1           Home          Netflix  \n",
       "...                   ...            ...              ...  \n",
       "9995                    1     Individual             None  \n",
       "9996                    0     Individual            Other  \n",
       "9997                    0     Commercial             Hulu  \n",
       "9998                    1           Home             None  \n",
       "9999                    1     Individual             Hulu  \n",
       "\n",
       "[10000 rows x 8 columns]"
      ]
     },
     "execution_count": 91,
     "metadata": {},
     "output_type": "execute_result"
    }
   ],
   "source": [
    "X"
   ]
  },
  {
   "cell_type": "code",
   "execution_count": 92,
   "metadata": {},
   "outputs": [
    {
     "data": {
      "text/plain": [
       "0       0\n",
       "1       0\n",
       "2       1\n",
       "3       1\n",
       "4       0\n",
       "       ..\n",
       "9995    0\n",
       "9996    0\n",
       "9997    0\n",
       "9998    0\n",
       "9999    0\n",
       "Name: churn, Length: 10000, dtype: int64"
      ]
     },
     "execution_count": 92,
     "metadata": {},
     "output_type": "execute_result"
    }
   ],
   "source": [
    "y"
   ]
  },
  {
   "cell_type": "code",
   "execution_count": 93,
   "metadata": {},
   "outputs": [],
   "source": [
    "X_train,X_valid,y_train,y_valid = train_test_split(X,y,test_size = 0.2,random_state =0)"
   ]
  },
  {
   "cell_type": "code",
   "execution_count": 94,
   "metadata": {},
   "outputs": [
    {
     "data": {
      "text/plain": [
       "((8000, 8), (2000, 8), (8000,), (2000,))"
      ]
     },
     "execution_count": 94,
     "metadata": {},
     "output_type": "execute_result"
    }
   ],
   "source": [
    "X_train.shape, X_valid.shape, y_train.shape, y_valid.shape"
   ]
  },
  {
   "cell_type": "code",
   "execution_count": 95,
   "metadata": {},
   "outputs": [],
   "source": [
    "\n",
    "categorical_cols = [cname for cname in X_train.columns if\n",
    "                    X_train[cname].nunique() < 10 and \n",
    "                    X_train[cname].dtype == \"object\"]\n",
    "\n",
    "# Select numerical columns\n",
    "numerical_cols = [cname for cname in X_train.columns if \n",
    "                X_train[cname].dtype in ['int64', 'float64']]\n",
    "\n",
    "# Keep selected columns only\n",
    "my_cols = categorical_cols + numerical_cols\n",
    "X_train = X_train[my_cols].copy()\n",
    "X_valid = X_valid[my_cols].copy()\n",
    "# X_test = X_test[my_cols].copy()"
   ]
  },
  {
   "cell_type": "code",
   "execution_count": 96,
   "metadata": {},
   "outputs": [
    {
     "data": {
      "text/plain": [
       "['dth_pack', 'customer_class', 'ott_subscription']"
      ]
     },
     "execution_count": 96,
     "metadata": {},
     "output_type": "execute_result"
    }
   ],
   "source": [
    "categorical_cols"
   ]
  },
  {
   "cell_type": "code",
   "execution_count": 97,
   "metadata": {},
   "outputs": [
    {
     "data": {
      "text/plain": [
       "['dth_pack_price',\n",
       " 'no_of_channels',\n",
       " 'active_since',\n",
       " 'viewtime',\n",
       " 'subscription_status']"
      ]
     },
     "execution_count": 97,
     "metadata": {},
     "output_type": "execute_result"
    }
   ],
   "source": [
    "numerical_cols"
   ]
  },
  {
   "cell_type": "code",
   "execution_count": 98,
   "metadata": {},
   "outputs": [],
   "source": [
    "## model training "
   ]
  },
  {
   "cell_type": "code",
   "execution_count": 170,
   "metadata": {},
   "outputs": [],
   "source": [
    "\n",
    "\n",
    "scaler = StandardScaler()\n",
    "\n",
    "numerical_transformer = SimpleImputer(strategy='constant')\n",
    "\n",
    "categorical_transformer = Pipeline([\n",
    "    ('impute',SimpleImputer(strategy='most_frequent')),\n",
    "    ('onehot',OneHotEncoder(handle_unknown='ignore',sparse=False))\n",
    "])\n",
    "\n",
    "\n",
    "preprocessor = ColumnTransformer(transformers=[\n",
    "    ('num',numerical_transformer,numerical_cols),\n",
    "    ('cat',categorical_transformer,categorical_cols)\n",
    "])\n",
    "\n",
    "\n",
    "model_rf = RandomForestClassifier(n_estimators=100,random_state=0,max_depth=30)\n",
    "model_en = ElasticNet(random_state=0)\n",
    "model_gb = XGBClassifier(n_estimators=500,learning_rate=0.1,random_state=0,n_jobs=-1)\n",
    "\n",
    "\n",
    "my_pipeline = Pipeline(steps=[\n",
    "    ('pre',preprocessor),\n",
    "    ('sc',scaler),    \n",
    "    ('gb',model_gb)\n",
    "    \n",
    "])\n",
    "\n",
    "pipeline_rf = Pipeline(steps=[\n",
    "    ('pre',preprocessor),\n",
    "    ('sc',scaler),\n",
    "    ('rf',model_rf)\n",
    "])\n",
    "\n",
    "parameters = {'gb__n_estimators':[i for i in range(500,1000,100)],\n",
    "              'gb__learning_rate':[0.1,0.2,0.05,0.07],\n",
    "             \n",
    "             }\n",
    "\n",
    "params_rf ={\n",
    "     'rf__n_estimators':[i for i in range(200,1000,100)]\n",
    "}"
   ]
  },
  {
   "cell_type": "code",
   "execution_count": 171,
   "metadata": {},
   "outputs": [],
   "source": [
    "# cv = GridSearchCV(pipeline_rf,params_rf,cv=10,n_jobs=-1)\n",
    "cv = GridSearchCV(my_pipeline,parameters,cv=10,n_jobs=-1)\n"
   ]
  },
  {
   "cell_type": "code",
   "execution_count": 172,
   "metadata": {},
   "outputs": [
    {
     "data": {
      "text/plain": [
       "GridSearchCV(cv=10,\n",
       "             estimator=Pipeline(steps=[('pre',\n",
       "                                        ColumnTransformer(transformers=[('num',\n",
       "                                                                         SimpleImputer(strategy='constant'),\n",
       "                                                                         ['dth_pack_price',\n",
       "                                                                          'no_of_channels',\n",
       "                                                                          'active_since',\n",
       "                                                                          'viewtime',\n",
       "                                                                          'subscription_status']),\n",
       "                                                                        ('cat',\n",
       "                                                                         Pipeline(steps=[('impute',\n",
       "                                                                                          SimpleImputer(strategy='most_frequent')),\n",
       "                                                                                         ('onehot',\n",
       "                                                                                          OneHotEncoder(handle_unknown='ignore',\n",
       "                                                                                                        sparse=False))]),...\n",
       "                                                      min_child_weight=None,\n",
       "                                                      missing=nan,\n",
       "                                                      monotone_constraints=None,\n",
       "                                                      n_estimators=500,\n",
       "                                                      n_jobs=-1,\n",
       "                                                      num_parallel_tree=None,\n",
       "                                                      random_state=0,\n",
       "                                                      reg_alpha=None,\n",
       "                                                      reg_lambda=None,\n",
       "                                                      scale_pos_weight=None,\n",
       "                                                      subsample=None,\n",
       "                                                      tree_method=None,\n",
       "                                                      validate_parameters=None,\n",
       "                                                      verbosity=None))]),\n",
       "             n_jobs=-1,\n",
       "             param_grid={'gb__learning_rate': [0.1, 0.2, 0.05, 0.07],\n",
       "                         'gb__n_estimators': [500, 600, 700, 800, 900]})"
      ]
     },
     "execution_count": 172,
     "metadata": {},
     "output_type": "execute_result"
    }
   ],
   "source": [
    "cv.fit(X_train,y_train)\n"
   ]
  },
  {
   "cell_type": "code",
   "execution_count": 173,
   "metadata": {},
   "outputs": [],
   "source": [
    "preds = cv.predict(X_valid)\n"
   ]
  },
  {
   "cell_type": "code",
   "execution_count": 174,
   "metadata": {},
   "outputs": [
    {
     "data": {
      "text/plain": [
       "0.319"
      ]
     },
     "execution_count": 174,
     "metadata": {},
     "output_type": "execute_result"
    }
   ],
   "source": [
    "mae = mean_absolute_error(y_valid,preds)\n",
    "mae"
   ]
  },
  {
   "cell_type": "code",
   "execution_count": 175,
   "metadata": {},
   "outputs": [
    {
     "data": {
      "text/plain": [
       "{'gb__learning_rate': 0.05, 'gb__n_estimators': 500}"
      ]
     },
     "execution_count": 175,
     "metadata": {},
     "output_type": "execute_result"
    }
   ],
   "source": [
    "cv.best_params_\n"
   ]
  },
  {
   "cell_type": "code",
   "execution_count": 176,
   "metadata": {},
   "outputs": [
    {
     "data": {
      "text/plain": [
       "0.681"
      ]
     },
     "execution_count": 176,
     "metadata": {},
     "output_type": "execute_result"
    }
   ],
   "source": [
    "accuracy_score(y_valid,preds)"
   ]
  },
  {
   "cell_type": "code",
   "execution_count": 177,
   "metadata": {},
   "outputs": [],
   "source": [
    "# from sklearn.preprocessing import StandardScaler\n",
    "# data = [[1,1], [2,3], [3,2], [1,1]]\n",
    "# scaler = StandardScaler()\n",
    "# scaler.fit(data)\n",
    "# scaled = scaler.transform(data)\n",
    "# print(scaled)\n",
    "\n",
    "# # for inverse transformation\n",
    "# inversed = scaler.inverse_transform(scaled)\n",
    "# print(inversed)"
   ]
  },
  {
   "cell_type": "code",
   "execution_count": 178,
   "metadata": {},
   "outputs": [
    {
     "data": {
      "text/plain": [
       "array([[1331,   59],\n",
       "       [ 579,   31]], dtype=int64)"
      ]
     },
     "execution_count": 178,
     "metadata": {},
     "output_type": "execute_result"
    }
   ],
   "source": [
    "confusion_matrix(y_valid,preds)"
   ]
  },
  {
   "cell_type": "code",
   "execution_count": 150,
   "metadata": {},
   "outputs": [
    {
     "data": {
      "text/plain": [
       "<sklearn.metrics._plot.confusion_matrix.ConfusionMatrixDisplay at 0x24a42112d88>"
      ]
     },
     "execution_count": 150,
     "metadata": {},
     "output_type": "execute_result"
    },
    {
     "data": {
      "image/png": "[encoded data removed]",
      "text/plain": [
       "<Figure size 432x288 with 2 Axes>"
      ]
     },
     "metadata": {
      "needs_background": "light"
     },
     "output_type": "display_data"
    }
   ],
   "source": [
    "plot_confusion_matrix(cv,X_valid,y_valid)"
   ]
  },
  {
   "cell_type": "code",
   "execution_count": 151,
   "metadata": {},
   "outputs": [
    {
     "data": {
      "text/plain": [
       "-0.5756575067814602"
      ]
     },
     "execution_count": 151,
     "metadata": {},
     "output_type": "execute_result"
    }
   ],
   "source": [
    "r2_score(y_valid,preds)"
   ]
  },
  {
   "cell_type": "code",
   "execution_count": null,
   "metadata": {},
   "outputs": [],
   "source": []
  },
  {
   "cell_type": "code",
   "execution_count": null,
   "metadata": {},
   "outputs": [],
   "source": []
  }
 ],
 "metadata": {
  "kernelspec": {
   "display_name": "Python 3",
   "language": "python",
   "name": "python3"
  },
  "language_info": {
   "codemirror_mode": {
    "name": "ipython",
    "version": 3
   },
   "file_extension": ".py",
   "mimetype": "text/x-python",
   "name": "python",
   "nbconvert_exporter": "python",
   "pygments_lexer": "ipython3",
   "version": "3.7.7"
  }
 },
 "nbformat": 4,
 "nbformat_minor": 4
}
